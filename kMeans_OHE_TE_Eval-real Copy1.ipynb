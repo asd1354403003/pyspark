{
 "cells": [
  {
   "cell_type": "markdown",
   "metadata": {},
   "source": [
    "## DS/CMPSC 410 MiniProject #3\n",
    "\n",
    "### Spring 2021\n",
    "### Instructor: John Yen\n",
    "### TA: Rupesh Prajapati and Dongkuan Xu\n",
    "### Learning Objectives\n",
    "- Be able to apply thermometer encoding to encode numerical variables into binary variable format.\n",
    "- Be able to apply k-means clustering to the Darknet dataset based on both thermometer encoding and one-hot encoding.\n",
    "- Be able to use external labels (e.g., mirai, zmap, and masscan) to evaluate the result of k-means clustering.\n",
    "- Be able to investigate characteristics of a cluster using one-hot encoded feature.\n",
    "\n",
    "### Total points: 100 \n",
    "- Exercise 1: 5 points\n",
    "- Exercise 2: 5 points \n",
    "- Exercise 3: 5 points \n",
    "- Exercise 4: 15 points\n",
    "- Exercise 5: 5 points\n",
    "- Exercise 6: 10 points\n",
    "- Exercise 7: 5 points\n",
    "- Exercise 8: 5 points\n",
    "- Exercise 9: 10 points\n",
    "- Exercise 10: 5 points\n",
    "- Exercise 11: 10 points\n",
    "- Exercise 12: 20 points\n",
    "  \n",
    "### Due: 5 pm, April 23, 2021"
   ]
  },
  {
   "cell_type": "code",
   "execution_count": null,
   "metadata": {},
   "outputs": [],
   "source": []
  },
  {
   "cell_type": "code",
   "execution_count": 1,
   "metadata": {},
   "outputs": [],
   "source": [
    "import pyspark\n",
    "import csv"
   ]
  },
  {
   "cell_type": "code",
   "execution_count": 2,
   "metadata": {},
   "outputs": [],
   "source": [
    "from pyspark import SparkContext\n",
    "from pyspark.sql import SparkSession\n",
    "from pyspark.sql.types import StructField, StructType, StringType, LongType\n",
    "from pyspark.sql.functions import col, column\n",
    "from pyspark.sql.functions import expr\n",
    "from pyspark.sql.functions import split\n",
    "from pyspark.sql.functions import array_contains\n",
    "from pyspark.sql import Row\n",
    "from pyspark.ml import Pipeline\n",
    "from pyspark.ml.feature import OneHotEncoder, StringIndexer, VectorAssembler, IndexToString, PCA\n",
    "from pyspark.ml.clustering import KMeans\n",
    "from pyspark.ml.evaluation import ClusteringEvaluator"
   ]
  },
  {
   "cell_type": "code",
   "execution_count": 3,
   "metadata": {},
   "outputs": [],
   "source": [
    "import pandas as pd\n",
    "import numpy as np\n",
    "import math"
   ]
  },
  {
   "cell_type": "code",
   "execution_count": 4,
   "metadata": {},
   "outputs": [],
   "source": [
    "ss = SparkSession.builder.master(\"local\").appName(\"ClusteringTE\").getOrCreate()"
   ]
  },
  {
   "cell_type": "markdown",
   "metadata": {},
   "source": [
    "## Exercise 1 (5 points)\n",
    "Complete the path for input file in the code below and enter your name in this Markdown cell:\n",
    "- Name: Hanzhong Ye\n"
   ]
  },
  {
   "cell_type": "code",
   "execution_count": 5,
   "metadata": {},
   "outputs": [],
   "source": [
    "Scanners_df = ss.read.csv(\"/storage/home/hjy5082/DS410mini/sampled_profile_v2.csv\", header= True, inferSchema=True )"
   ]
  },
  {
   "cell_type": "markdown",
   "metadata": {},
   "source": [
    "## We can use printSchema() to display the schema of the DataFrame Scanners_df to see whether it was inferred correctly."
   ]
  },
  {
   "cell_type": "code",
   "execution_count": 6,
   "metadata": {},
   "outputs": [
    {
     "name": "stdout",
     "output_type": "stream",
     "text": [
      "root\n",
      " |-- _c0: integer (nullable = true)\n",
      " |-- id: integer (nullable = true)\n",
      " |-- numports: integer (nullable = true)\n",
      " |-- lifetime: double (nullable = true)\n",
      " |-- Bytes: integer (nullable = true)\n",
      " |-- Packets: integer (nullable = true)\n",
      " |-- average_packetsize: integer (nullable = true)\n",
      " |-- MinUniqueDests: integer (nullable = true)\n",
      " |-- MaxUniqueDests: integer (nullable = true)\n",
      " |-- MinUniqueDest24s: integer (nullable = true)\n",
      " |-- MaxUniqueDest24s: integer (nullable = true)\n",
      " |-- average_lifetime: double (nullable = true)\n",
      " |-- mirai: boolean (nullable = true)\n",
      " |-- zmap: boolean (nullable = true)\n",
      " |-- masscan: boolean (nullable = true)\n",
      " |-- country: string (nullable = true)\n",
      " |-- traffic_types_scanned_str: string (nullable = true)\n",
      " |-- ports_scanned_str: string (nullable = true)\n",
      " |-- host_tags_per_censys: string (nullable = true)\n",
      " |-- host_services_per_censys: string (nullable = true)\n",
      "\n"
     ]
    }
   ],
   "source": [
    "Scanners_df.printSchema()"
   ]
  },
  {
   "cell_type": "code",
   "execution_count": 7,
   "metadata": {},
   "outputs": [
    {
     "data": {
      "text/plain": [
       "17132"
      ]
     },
     "execution_count": 7,
     "metadata": {},
     "output_type": "execute_result"
    }
   ],
   "source": [
    "Scanners_df.where(col('mirai')).count()"
   ]
  },
  {
   "cell_type": "markdown",
   "metadata": {},
   "source": [
    "# Part A: One Hot Encoding \n",
    "## This part is identical to that of Miniproject Deliverable #2\n",
    "We want to apply one hot encoding to the set of ports scanned by scanners.  \n",
    "- A.1 Like Mini Project deliverable 1 and 2, we first convert the feature \"ports_scanned_str\" to a feature that is an Array of ports\n",
    "- A.2 We then calculate the total number of scanners for each port\n",
    "- A.3 We identify the top n port to use for one-hot encoding (You choose the number n).\n",
    "- A.4 Generate one-hot encoded feature for these top n ports."
   ]
  },
  {
   "cell_type": "code",
   "execution_count": 8,
   "metadata": {},
   "outputs": [],
   "source": [
    "# Scanners_df.select(\"ports_scanned_str\").show(30)"
   ]
  },
  {
   "cell_type": "code",
   "execution_count": 9,
   "metadata": {},
   "outputs": [],
   "source": [
    "Scanners_df2=Scanners_df.withColumn(\"Ports_Array\", split(col(\"ports_scanned_str\"), \"-\") )\n",
    "# Scanners_df2.persist().show(10)"
   ]
  },
  {
   "cell_type": "markdown",
   "metadata": {},
   "source": [
    "## A.1 We only need the column ```Ports_Array``` to calculate the top ports being scanned"
   ]
  },
  {
   "cell_type": "code",
   "execution_count": 10,
   "metadata": {},
   "outputs": [],
   "source": [
    "Ports_Scanned_RDD = Scanners_df2.select(\"Ports_Array\").rdd"
   ]
  },
  {
   "cell_type": "code",
   "execution_count": 11,
   "metadata": {},
   "outputs": [],
   "source": [
    "# Ports_Scanned_RDD.persist().take(5)"
   ]
  },
  {
   "cell_type": "markdown",
   "metadata": {},
   "source": [
    "## Because each port number in the Ports_Array column for each row occurs only once, we can count the total occurance of each port number through flatMap."
   ]
  },
  {
   "cell_type": "code",
   "execution_count": 12,
   "metadata": {},
   "outputs": [],
   "source": [
    "Ports_list_RDD = Ports_Scanned_RDD.map(lambda row: row[0] )"
   ]
  },
  {
   "cell_type": "code",
   "execution_count": 13,
   "metadata": {},
   "outputs": [],
   "source": [
    "# Ports_list_RDD.persist()"
   ]
  },
  {
   "cell_type": "code",
   "execution_count": 14,
   "metadata": {},
   "outputs": [],
   "source": [
    "Ports_list2_RDD = Ports_Scanned_RDD.flatMap(lambda row: row[0] )"
   ]
  },
  {
   "cell_type": "code",
   "execution_count": 15,
   "metadata": {},
   "outputs": [],
   "source": [
    "Port_count_RDD = Ports_list2_RDD.map(lambda x: (x, 1))\n",
    "# Port_count_RDD.take(2)"
   ]
  },
  {
   "cell_type": "code",
   "execution_count": 16,
   "metadata": {},
   "outputs": [],
   "source": [
    "Port_count_total_RDD = Port_count_RDD.reduceByKey(lambda x,y: x+y, 1)\n",
    "# Port_count_total_RDD.persist().take(5)"
   ]
  },
  {
   "cell_type": "code",
   "execution_count": 17,
   "metadata": {},
   "outputs": [],
   "source": [
    "Sorted_Count_Port_RDD = Port_count_total_RDD.map(lambda x: (x[1], x[0])).sortByKey( ascending = False)"
   ]
  },
  {
   "cell_type": "code",
   "execution_count": 18,
   "metadata": {},
   "outputs": [],
   "source": [
    "# Sorted_Count_Port_RDD.persist().take(50)"
   ]
  },
  {
   "cell_type": "markdown",
   "metadata": {},
   "source": [
    "## Exercise 2 (5%)\n",
    "Select top_ports to be the number of top ports you want to use for one-hot encoding.  I recommend a number between 20 and 40."
   ]
  },
  {
   "cell_type": "code",
   "execution_count": 19,
   "metadata": {},
   "outputs": [],
   "source": [
    "top_ports=40\n",
    "Sorted_Ports_RDD= Sorted_Count_Port_RDD.map(lambda x: x[1])\n",
    "Top_Ports_list = Sorted_Ports_RDD.take(top_ports)"
   ]
  },
  {
   "cell_type": "code",
   "execution_count": 20,
   "metadata": {},
   "outputs": [],
   "source": [
    "# Top_Ports_list"
   ]
  },
  {
   "cell_type": "code",
   "execution_count": 21,
   "metadata": {},
   "outputs": [],
   "source": [
    "# Scanners_df3=Scanners_df2.withColumn(FeatureName, array_contains(\"Ports_Array\", Top_Ports_list[0]))"
   ]
  },
  {
   "cell_type": "code",
   "execution_count": 22,
   "metadata": {},
   "outputs": [],
   "source": [
    "# Scanners_df3.show(10)"
   ]
  },
  {
   "cell_type": "markdown",
   "metadata": {},
   "source": [
    "## A.4 Generate Hot-One Encoded Feature for each of the top ports in the Top_Ports_list\n",
    "\n",
    "- Iterate through the Top_Ports_list so that each top port is one-hot encoded."
   ]
  },
  {
   "cell_type": "markdown",
   "metadata": {},
   "source": [
    "## Exercise 3 (5 %)\n",
    "Complete the following PySpark code for encoding the n ports using One Hot Encoding, where n is specified by the variable ```top_ports```"
   ]
  },
  {
   "cell_type": "code",
   "execution_count": 23,
   "metadata": {},
   "outputs": [],
   "source": [
    "for i in range(0, top_ports - 1):\n",
    "    # \"Port\" + Top_Ports_list[i]  is the name of each new feature created through One Hot Encoding\n",
    "    Scanners_df3 = Scanners_df2.withColumn(\"Port\" + Top_Ports_list[i], array_contains(\"Ports_Array\", Top_Ports_list[i]))\n",
    "    Scanners_df2 = Scanners_df3"
   ]
  },
  {
   "cell_type": "code",
   "execution_count": 24,
   "metadata": {},
   "outputs": [
    {
     "name": "stdout",
     "output_type": "stream",
     "text": [
      "root\n",
      " |-- _c0: integer (nullable = true)\n",
      " |-- id: integer (nullable = true)\n",
      " |-- numports: integer (nullable = true)\n",
      " |-- lifetime: double (nullable = true)\n",
      " |-- Bytes: integer (nullable = true)\n",
      " |-- Packets: integer (nullable = true)\n",
      " |-- average_packetsize: integer (nullable = true)\n",
      " |-- MinUniqueDests: integer (nullable = true)\n",
      " |-- MaxUniqueDests: integer (nullable = true)\n",
      " |-- MinUniqueDest24s: integer (nullable = true)\n",
      " |-- MaxUniqueDest24s: integer (nullable = true)\n",
      " |-- average_lifetime: double (nullable = true)\n",
      " |-- mirai: boolean (nullable = true)\n",
      " |-- zmap: boolean (nullable = true)\n",
      " |-- masscan: boolean (nullable = true)\n",
      " |-- country: string (nullable = true)\n",
      " |-- traffic_types_scanned_str: string (nullable = true)\n",
      " |-- ports_scanned_str: string (nullable = true)\n",
      " |-- host_tags_per_censys: string (nullable = true)\n",
      " |-- host_services_per_censys: string (nullable = true)\n",
      " |-- Ports_Array: array (nullable = true)\n",
      " |    |-- element: string (containsNull = true)\n",
      " |-- Port17132: boolean (nullable = true)\n",
      " |-- Port17140: boolean (nullable = true)\n",
      " |-- Port17128: boolean (nullable = true)\n",
      " |-- Port17138: boolean (nullable = true)\n",
      " |-- Port17130: boolean (nullable = true)\n",
      " |-- Port17136: boolean (nullable = true)\n",
      " |-- Port23: boolean (nullable = true)\n",
      " |-- Port445: boolean (nullable = true)\n",
      " |-- Port54594: boolean (nullable = true)\n",
      " |-- Port17142: boolean (nullable = true)\n",
      " |-- Port17134: boolean (nullable = true)\n",
      " |-- Port80: boolean (nullable = true)\n",
      " |-- Port8080: boolean (nullable = true)\n",
      " |-- Port0: boolean (nullable = true)\n",
      " |-- Port2323: boolean (nullable = true)\n",
      " |-- Port5555: boolean (nullable = true)\n",
      " |-- Port81: boolean (nullable = true)\n",
      " |-- Port1023: boolean (nullable = true)\n",
      " |-- Port52869: boolean (nullable = true)\n",
      " |-- Port8443: boolean (nullable = true)\n",
      " |-- Port49152: boolean (nullable = true)\n",
      " |-- Port7574: boolean (nullable = true)\n",
      " |-- Port37215: boolean (nullable = true)\n",
      " |-- Port34218: boolean (nullable = true)\n",
      " |-- Port34220: boolean (nullable = true)\n",
      " |-- Port33968: boolean (nullable = true)\n",
      " |-- Port34224: boolean (nullable = true)\n",
      " |-- Port34228: boolean (nullable = true)\n",
      " |-- Port33962: boolean (nullable = true)\n",
      " |-- Port33960: boolean (nullable = true)\n",
      " |-- Port33964: boolean (nullable = true)\n",
      " |-- Port34216: boolean (nullable = true)\n",
      " |-- Port34226: boolean (nullable = true)\n",
      " |-- Port33970: boolean (nullable = true)\n",
      " |-- Port33972: boolean (nullable = true)\n",
      " |-- Port50401: boolean (nullable = true)\n",
      " |-- Port34222: boolean (nullable = true)\n",
      " |-- Port34230: boolean (nullable = true)\n",
      " |-- Port33966: boolean (nullable = true)\n",
      "\n"
     ]
    }
   ],
   "source": [
    "Scanners_df2.printSchema()"
   ]
  },
  {
   "cell_type": "markdown",
   "metadata": {},
   "source": [
    "# Part B Thermometer Encoding of Numerical Variables"
   ]
  },
  {
   "cell_type": "markdown",
   "metadata": {},
   "source": [
    "## We encode the numerical variable numports (number of ports being scanned) using thermometer encoding"
   ]
  },
  {
   "cell_type": "code",
   "execution_count": 25,
   "metadata": {},
   "outputs": [
    {
     "data": {
      "text/plain": [
       "32768"
      ]
     },
     "execution_count": 25,
     "metadata": {},
     "output_type": "execute_result"
    }
   ],
   "source": [
    "pow(2,15)"
   ]
  },
  {
   "cell_type": "code",
   "execution_count": 26,
   "metadata": {},
   "outputs": [],
   "source": [
    "Scanners_df3=Scanners_df2.withColumn(\"TE_numports_0\", col(\"numports\") > 0) \n",
    "Scanners_df2 = Scanners_df3"
   ]
  },
  {
   "cell_type": "code",
   "execution_count": 27,
   "metadata": {},
   "outputs": [
    {
     "data": {
      "text/plain": [
       "227062"
      ]
     },
     "execution_count": 27,
     "metadata": {},
     "output_type": "execute_result"
    }
   ],
   "source": [
    "Scanners_df3.count()"
   ]
  },
  {
   "cell_type": "code",
   "execution_count": 28,
   "metadata": {},
   "outputs": [
    {
     "data": {
      "text/plain": [
       "227062"
      ]
     },
     "execution_count": 28,
     "metadata": {},
     "output_type": "execute_result"
    }
   ],
   "source": [
    "Scanners_df3.where(col('TE_numports_0')).count()"
   ]
  },
  {
   "cell_type": "markdown",
   "metadata": {},
   "source": [
    "# Exercise 4 (15%)\n",
    "Complete the following pyspark code to use the column \"numports\" to create 16 additional columns as follows:\n",
    "- TE_numports_0 : True, if the scanner scans more than 0 ports, otherwise False.\n",
    "- TE_numports_1 : True, if the scanner scans more than 2**0 (1) port, otherwise False.\n",
    "- TE_numports_2 : True, if the scanner scans more than 2**1 (2) ports, otherwise False.\n",
    "- TE_numports_3 : True, if the scanner scans more than 2**2 (4) ports, otherwise False\n",
    "        ...\n",
    "- TE_numports_15 : True, if the scanner scans more than 2**14 ports, otherwise False\n",
    "- TE_numports_16 : True, if the scanner scans more than 2**15 (32768) ports, otherwise False"
   ]
  },
  {
   "cell_type": "code",
   "execution_count": 29,
   "metadata": {},
   "outputs": [],
   "source": [
    "for i in range(0, 16):\n",
    "    # \"TE_numports_\" + str(i+1)  is the name of each new feature created for each Bin in Thermometer Encoding\n",
    "    Scanners_df3 = Scanners_df2.withColumn(\"TE_numports_\" + str(i+1), col(\"numports\") > pow(2,i))\n",
    "    Scanners_df2 = Scanners_df3"
   ]
  },
  {
   "cell_type": "code",
   "execution_count": 30,
   "metadata": {},
   "outputs": [
    {
     "name": "stdout",
     "output_type": "stream",
     "text": [
      "root\n",
      " |-- _c0: integer (nullable = true)\n",
      " |-- id: integer (nullable = true)\n",
      " |-- numports: integer (nullable = true)\n",
      " |-- lifetime: double (nullable = true)\n",
      " |-- Bytes: integer (nullable = true)\n",
      " |-- Packets: integer (nullable = true)\n",
      " |-- average_packetsize: integer (nullable = true)\n",
      " |-- MinUniqueDests: integer (nullable = true)\n",
      " |-- MaxUniqueDests: integer (nullable = true)\n",
      " |-- MinUniqueDest24s: integer (nullable = true)\n",
      " |-- MaxUniqueDest24s: integer (nullable = true)\n",
      " |-- average_lifetime: double (nullable = true)\n",
      " |-- mirai: boolean (nullable = true)\n",
      " |-- zmap: boolean (nullable = true)\n",
      " |-- masscan: boolean (nullable = true)\n",
      " |-- country: string (nullable = true)\n",
      " |-- traffic_types_scanned_str: string (nullable = true)\n",
      " |-- ports_scanned_str: string (nullable = true)\n",
      " |-- host_tags_per_censys: string (nullable = true)\n",
      " |-- host_services_per_censys: string (nullable = true)\n",
      " |-- Ports_Array: array (nullable = true)\n",
      " |    |-- element: string (containsNull = true)\n",
      " |-- Port17132: boolean (nullable = true)\n",
      " |-- Port17140: boolean (nullable = true)\n",
      " |-- Port17128: boolean (nullable = true)\n",
      " |-- Port17138: boolean (nullable = true)\n",
      " |-- Port17130: boolean (nullable = true)\n",
      " |-- Port17136: boolean (nullable = true)\n",
      " |-- Port23: boolean (nullable = true)\n",
      " |-- Port445: boolean (nullable = true)\n",
      " |-- Port54594: boolean (nullable = true)\n",
      " |-- Port17142: boolean (nullable = true)\n",
      " |-- Port17134: boolean (nullable = true)\n",
      " |-- Port80: boolean (nullable = true)\n",
      " |-- Port8080: boolean (nullable = true)\n",
      " |-- Port0: boolean (nullable = true)\n",
      " |-- Port2323: boolean (nullable = true)\n",
      " |-- Port5555: boolean (nullable = true)\n",
      " |-- Port81: boolean (nullable = true)\n",
      " |-- Port1023: boolean (nullable = true)\n",
      " |-- Port52869: boolean (nullable = true)\n",
      " |-- Port8443: boolean (nullable = true)\n",
      " |-- Port49152: boolean (nullable = true)\n",
      " |-- Port7574: boolean (nullable = true)\n",
      " |-- Port37215: boolean (nullable = true)\n",
      " |-- Port34218: boolean (nullable = true)\n",
      " |-- Port34220: boolean (nullable = true)\n",
      " |-- Port33968: boolean (nullable = true)\n",
      " |-- Port34224: boolean (nullable = true)\n",
      " |-- Port34228: boolean (nullable = true)\n",
      " |-- Port33962: boolean (nullable = true)\n",
      " |-- Port33960: boolean (nullable = true)\n",
      " |-- Port33964: boolean (nullable = true)\n",
      " |-- Port34216: boolean (nullable = true)\n",
      " |-- Port34226: boolean (nullable = true)\n",
      " |-- Port33970: boolean (nullable = true)\n",
      " |-- Port33972: boolean (nullable = true)\n",
      " |-- Port50401: boolean (nullable = true)\n",
      " |-- Port34222: boolean (nullable = true)\n",
      " |-- Port34230: boolean (nullable = true)\n",
      " |-- Port33966: boolean (nullable = true)\n",
      " |-- TE_numports_0: boolean (nullable = true)\n",
      " |-- TE_numports_1: boolean (nullable = true)\n",
      " |-- TE_numports_2: boolean (nullable = true)\n",
      " |-- TE_numports_3: boolean (nullable = true)\n",
      " |-- TE_numports_4: boolean (nullable = true)\n",
      " |-- TE_numports_5: boolean (nullable = true)\n",
      " |-- TE_numports_6: boolean (nullable = true)\n",
      " |-- TE_numports_7: boolean (nullable = true)\n",
      " |-- TE_numports_8: boolean (nullable = true)\n",
      " |-- TE_numports_9: boolean (nullable = true)\n",
      " |-- TE_numports_10: boolean (nullable = true)\n",
      " |-- TE_numports_11: boolean (nullable = true)\n",
      " |-- TE_numports_12: boolean (nullable = true)\n",
      " |-- TE_numports_13: boolean (nullable = true)\n",
      " |-- TE_numports_14: boolean (nullable = true)\n",
      " |-- TE_numports_15: boolean (nullable = true)\n",
      " |-- TE_numports_16: boolean (nullable = true)\n",
      "\n"
     ]
    }
   ],
   "source": [
    "Scanners_df2.printSchema()"
   ]
  },
  {
   "cell_type": "markdown",
   "metadata": {},
   "source": [
    "# Exercise 5 (5 points)\n",
    "What is the total number of scanners that scan more than 2^15 (i.e., 32768) ports? Complete the code below using Scanners_df2 to find out the answer."
   ]
  },
  {
   "cell_type": "code",
   "execution_count": 31,
   "metadata": {},
   "outputs": [],
   "source": [
    "HFScanners_df2 = Scanners_df2.where(col('TE_numports_16'))"
   ]
  },
  {
   "cell_type": "code",
   "execution_count": 32,
   "metadata": {},
   "outputs": [
    {
     "data": {
      "text/plain": [
       "11"
      ]
     },
     "execution_count": 32,
     "metadata": {},
     "output_type": "execute_result"
    }
   ],
   "source": [
    "HFScanners_df2.count()"
   ]
  },
  {
   "cell_type": "markdown",
   "metadata": {},
   "source": [
    "# Exercise 6 (10 points)\n",
    "Complete the following code to use k-means to cluster the scanners using the following \n",
    "- thermometer encoding of 'numports' numerical feature\n",
    "- one-hot encoding of top k ports (k chosen by you in Exercise 2)."
   ]
  },
  {
   "cell_type": "markdown",
   "metadata": {},
   "source": [
    "## Specify Parameters for k Means Clustering"
   ]
  },
  {
   "cell_type": "code",
   "execution_count": 33,
   "metadata": {},
   "outputs": [
    {
     "data": {
      "text/plain": [
       "'distanceMeasure: the distance measure. Supported options: \\'euclidean\\' and \\'cosine\\'. (default: euclidean)\\nfeaturesCol: features column name. (default: features, current: features)\\ninitMode: The initialization algorithm. This can be either \"random\" to choose random points as initial cluster centers, or \"k-means||\" to use a parallel variant of k-means++ (default: k-means||)\\ninitSteps: The number of steps for k-means|| initialization mode. Must be > 0. (default: 2)\\nk: The number of clusters to create. Must be > 1. (default: 2, current: 50)\\nmaxIter: max number of iterations (>= 0). (default: 20)\\npredictionCol: prediction column name. (default: prediction, current: prediction)\\nseed: random seed. (default: 7786635601407622835, current: 123)\\ntol: the convergence tolerance for iterative algorithms (>= 0). (default: 0.0001)\\nweightCol: weight column name. If this is not set or empty, we treat all instance weights as 1.0. (undefined)'"
      ]
     },
     "execution_count": 33,
     "metadata": {},
     "output_type": "execute_result"
    }
   ],
   "source": [
    "km = KMeans(featuresCol=\"features\", predictionCol=\"prediction\").setK(50).setSeed(123)\n",
    "km.explainParams()"
   ]
  },
  {
   "cell_type": "code",
   "execution_count": 34,
   "metadata": {},
   "outputs": [],
   "source": [
    "input_features = []\n",
    "for i in range(0, top_ports - 1):\n",
    "    input_features.append( \"Port\"+Top_Ports_list[i] )\n"
   ]
  },
  {
   "cell_type": "code",
   "execution_count": 35,
   "metadata": {},
   "outputs": [
    {
     "name": "stdout",
     "output_type": "stream",
     "text": [
      "['Port17132', 'Port17140', 'Port17128', 'Port17138', 'Port17130', 'Port17136', 'Port23', 'Port445', 'Port54594', 'Port17142', 'Port17134', 'Port80', 'Port8080', 'Port0', 'Port2323', 'Port5555', 'Port81', 'Port1023', 'Port52869', 'Port8443', 'Port49152', 'Port7574', 'Port37215', 'Port34218', 'Port34220', 'Port33968', 'Port34224', 'Port34228', 'Port33962', 'Port33960', 'Port33964', 'Port34216', 'Port34226', 'Port33970', 'Port33972', 'Port50401', 'Port34222', 'Port34230', 'Port33966']\n"
     ]
    }
   ],
   "source": [
    "print(input_features)"
   ]
  },
  {
   "cell_type": "code",
   "execution_count": 36,
   "metadata": {},
   "outputs": [],
   "source": [
    "for i in range(0, 15):\n",
    "    input_features.append( \"TE_numports_\" + str(i+1))"
   ]
  },
  {
   "cell_type": "code",
   "execution_count": 37,
   "metadata": {},
   "outputs": [
    {
     "name": "stdout",
     "output_type": "stream",
     "text": [
      "['Port17132', 'Port17140', 'Port17128', 'Port17138', 'Port17130', 'Port17136', 'Port23', 'Port445', 'Port54594', 'Port17142', 'Port17134', 'Port80', 'Port8080', 'Port0', 'Port2323', 'Port5555', 'Port81', 'Port1023', 'Port52869', 'Port8443', 'Port49152', 'Port7574', 'Port37215', 'Port34218', 'Port34220', 'Port33968', 'Port34224', 'Port34228', 'Port33962', 'Port33960', 'Port33964', 'Port34216', 'Port34226', 'Port33970', 'Port33972', 'Port50401', 'Port34222', 'Port34230', 'Port33966', 'TE_numports_1', 'TE_numports_2', 'TE_numports_3', 'TE_numports_4', 'TE_numports_5', 'TE_numports_6', 'TE_numports_7', 'TE_numports_8', 'TE_numports_9', 'TE_numports_10', 'TE_numports_11', 'TE_numports_12', 'TE_numports_13', 'TE_numports_14', 'TE_numports_15']\n"
     ]
    }
   ],
   "source": [
    "print(input_features)"
   ]
  },
  {
   "cell_type": "code",
   "execution_count": 38,
   "metadata": {},
   "outputs": [],
   "source": [
    "va = VectorAssembler().setInputCols(input_features).setOutputCol(\"features\")"
   ]
  },
  {
   "cell_type": "code",
   "execution_count": 39,
   "metadata": {},
   "outputs": [],
   "source": [
    "data= va.transform(Scanners_df2)"
   ]
  },
  {
   "cell_type": "code",
   "execution_count": 40,
   "metadata": {},
   "outputs": [
    {
     "data": {
      "text/plain": [
       "DataFrame[_c0: int, id: int, numports: int, lifetime: double, Bytes: int, Packets: int, average_packetsize: int, MinUniqueDests: int, MaxUniqueDests: int, MinUniqueDest24s: int, MaxUniqueDest24s: int, average_lifetime: double, mirai: boolean, zmap: boolean, masscan: boolean, country: string, traffic_types_scanned_str: string, ports_scanned_str: string, host_tags_per_censys: string, host_services_per_censys: string, Ports_Array: array<string>, Port17132: boolean, Port17140: boolean, Port17128: boolean, Port17138: boolean, Port17130: boolean, Port17136: boolean, Port23: boolean, Port445: boolean, Port54594: boolean, Port17142: boolean, Port17134: boolean, Port80: boolean, Port8080: boolean, Port0: boolean, Port2323: boolean, Port5555: boolean, Port81: boolean, Port1023: boolean, Port52869: boolean, Port8443: boolean, Port49152: boolean, Port7574: boolean, Port37215: boolean, Port34218: boolean, Port34220: boolean, Port33968: boolean, Port34224: boolean, Port34228: boolean, Port33962: boolean, Port33960: boolean, Port33964: boolean, Port34216: boolean, Port34226: boolean, Port33970: boolean, Port33972: boolean, Port50401: boolean, Port34222: boolean, Port34230: boolean, Port33966: boolean, TE_numports_0: boolean, TE_numports_1: boolean, TE_numports_2: boolean, TE_numports_3: boolean, TE_numports_4: boolean, TE_numports_5: boolean, TE_numports_6: boolean, TE_numports_7: boolean, TE_numports_8: boolean, TE_numports_9: boolean, TE_numports_10: boolean, TE_numports_11: boolean, TE_numports_12: boolean, TE_numports_13: boolean, TE_numports_14: boolean, TE_numports_15: boolean, TE_numports_16: boolean, features: vector]"
      ]
     },
     "execution_count": 40,
     "metadata": {},
     "output_type": "execute_result"
    }
   ],
   "source": [
    "data.persist()"
   ]
  },
  {
   "cell_type": "code",
   "execution_count": 41,
   "metadata": {},
   "outputs": [],
   "source": [
    "kmModel=km.fit(data)"
   ]
  },
  {
   "cell_type": "code",
   "execution_count": 42,
   "metadata": {},
   "outputs": [
    {
     "data": {
      "text/plain": [
       "KMeansModel: uid=KMeans_f521755e9bc3, k=50, distanceMeasure=euclidean, numFeatures=54"
      ]
     },
     "execution_count": 42,
     "metadata": {},
     "output_type": "execute_result"
    }
   ],
   "source": [
    "kmModel"
   ]
  },
  {
   "cell_type": "code",
   "execution_count": 43,
   "metadata": {},
   "outputs": [],
   "source": [
    "predictions = kmModel.transform(data)"
   ]
  },
  {
   "cell_type": "code",
   "execution_count": 44,
   "metadata": {},
   "outputs": [
    {
     "data": {
      "text/plain": [
       "DataFrame[_c0: int, id: int, numports: int, lifetime: double, Bytes: int, Packets: int, average_packetsize: int, MinUniqueDests: int, MaxUniqueDests: int, MinUniqueDest24s: int, MaxUniqueDest24s: int, average_lifetime: double, mirai: boolean, zmap: boolean, masscan: boolean, country: string, traffic_types_scanned_str: string, ports_scanned_str: string, host_tags_per_censys: string, host_services_per_censys: string, Ports_Array: array<string>, Port17132: boolean, Port17140: boolean, Port17128: boolean, Port17138: boolean, Port17130: boolean, Port17136: boolean, Port23: boolean, Port445: boolean, Port54594: boolean, Port17142: boolean, Port17134: boolean, Port80: boolean, Port8080: boolean, Port0: boolean, Port2323: boolean, Port5555: boolean, Port81: boolean, Port1023: boolean, Port52869: boolean, Port8443: boolean, Port49152: boolean, Port7574: boolean, Port37215: boolean, Port34218: boolean, Port34220: boolean, Port33968: boolean, Port34224: boolean, Port34228: boolean, Port33962: boolean, Port33960: boolean, Port33964: boolean, Port34216: boolean, Port34226: boolean, Port33970: boolean, Port33972: boolean, Port50401: boolean, Port34222: boolean, Port34230: boolean, Port33966: boolean, TE_numports_0: boolean, TE_numports_1: boolean, TE_numports_2: boolean, TE_numports_3: boolean, TE_numports_4: boolean, TE_numports_5: boolean, TE_numports_6: boolean, TE_numports_7: boolean, TE_numports_8: boolean, TE_numports_9: boolean, TE_numports_10: boolean, TE_numports_11: boolean, TE_numports_12: boolean, TE_numports_13: boolean, TE_numports_14: boolean, TE_numports_15: boolean, TE_numports_16: boolean, features: vector, prediction: int]"
      ]
     },
     "execution_count": 44,
     "metadata": {},
     "output_type": "execute_result"
    }
   ],
   "source": [
    "predictions.persist()"
   ]
  },
  {
   "cell_type": "code",
   "execution_count": 45,
   "metadata": {},
   "outputs": [],
   "source": [
    "Cluster1_df=predictions.where(col(\"prediction\")==0)"
   ]
  },
  {
   "cell_type": "code",
   "execution_count": 46,
   "metadata": {},
   "outputs": [
    {
     "data": {
      "text/plain": [
       "7594"
      ]
     },
     "execution_count": 46,
     "metadata": {},
     "output_type": "execute_result"
    }
   ],
   "source": [
    "Cluster1_df.persist().count()"
   ]
  },
  {
   "cell_type": "markdown",
   "metadata": {},
   "source": [
    "## Exercise 7 (5 points)\n",
    "Complete the following code to find the size of all of the clusters generated."
   ]
  },
  {
   "cell_type": "code",
   "execution_count": 47,
   "metadata": {},
   "outputs": [],
   "source": [
    "summary = kmModel.summary"
   ]
  },
  {
   "cell_type": "code",
   "execution_count": 48,
   "metadata": {},
   "outputs": [
    {
     "data": {
      "text/plain": [
       "[7594,\n",
       " 24561,\n",
       " 2957,\n",
       " 1674,\n",
       " 1808,\n",
       " 16044,\n",
       " 7075,\n",
       " 3335,\n",
       " 7523,\n",
       " 3868,\n",
       " 1905,\n",
       " 21722,\n",
       " 7023,\n",
       " 6483,\n",
       " 1963,\n",
       " 1080,\n",
       " 1832,\n",
       " 1002,\n",
       " 38044,\n",
       " 605,\n",
       " 909,\n",
       " 793,\n",
       " 1763,\n",
       " 1825,\n",
       " 6729,\n",
       " 3367,\n",
       " 2118,\n",
       " 1398,\n",
       " 454,\n",
       " 1726,\n",
       " 1075,\n",
       " 2862,\n",
       " 6749,\n",
       " 7293,\n",
       " 1394,\n",
       " 1668,\n",
       " 3948,\n",
       " 7919,\n",
       " 1308,\n",
       " 1539,\n",
       " 1077,\n",
       " 844,\n",
       " 2813,\n",
       " 1185,\n",
       " 1346,\n",
       " 183,\n",
       " 757,\n",
       " 1620,\n",
       " 1008,\n",
       " 1294]"
      ]
     },
     "execution_count": 48,
     "metadata": {},
     "output_type": "execute_result"
    }
   ],
   "source": [
    "summary.clusterSizes"
   ]
  },
  {
   "cell_type": "markdown",
   "metadata": {},
   "source": [
    "# Exercise 8 (5 points)\n",
    "Complete the following code to find the Silhouette Score of the clustering result."
   ]
  },
  {
   "cell_type": "code",
   "execution_count": 49,
   "metadata": {},
   "outputs": [],
   "source": [
    "evaluator = ClusteringEvaluator()\n",
    "silhouette = evaluator.evaluate(predictions)"
   ]
  },
  {
   "cell_type": "code",
   "execution_count": 50,
   "metadata": {},
   "outputs": [
    {
     "name": "stdout",
     "output_type": "stream",
     "text": [
      "Silhouette Score of the Clustering Result is  0.7026697889944361\n"
     ]
    }
   ],
   "source": [
    "print('Silhouette Score of the Clustering Result is ', silhouette)"
   ]
  },
  {
   "cell_type": "code",
   "execution_count": 51,
   "metadata": {},
   "outputs": [],
   "source": [
    "centers = kmModel.clusterCenters()"
   ]
  },
  {
   "cell_type": "code",
   "execution_count": 52,
   "metadata": {},
   "outputs": [
    {
     "data": {
      "text/plain": [
       "array([0.00000000e+00, 7.59810377e-02, 0.00000000e+00, 0.00000000e+00,\n",
       "       0.00000000e+00, 1.00000000e+00, 0.00000000e+00, 2.23860943e-03,\n",
       "       0.00000000e+00, 0.00000000e+00, 0.00000000e+00, 0.00000000e+00,\n",
       "       0.00000000e+00, 9.21780353e-04, 0.00000000e+00, 2.63365815e-04,\n",
       "       0.00000000e+00, 0.00000000e+00, 0.00000000e+00, 0.00000000e+00,\n",
       "       0.00000000e+00, 0.00000000e+00, 0.00000000e+00, 2.63365815e-03,\n",
       "       2.63365815e-03, 2.89702397e-03, 3.16038978e-03, 2.89702397e-03,\n",
       "       2.50197524e-03, 0.00000000e+00, 1.84356071e-03, 1.58019489e-03,\n",
       "       3.02870687e-03, 2.76534106e-03, 2.23860943e-03, 0.00000000e+00,\n",
       "       1.71187780e-03, 1.18514617e-03, 9.21780353e-04, 1.21675007e-01,\n",
       "       0.00000000e+00, 0.00000000e+00, 0.00000000e+00, 0.00000000e+00,\n",
       "       0.00000000e+00, 0.00000000e+00, 0.00000000e+00, 0.00000000e+00,\n",
       "       0.00000000e+00, 0.00000000e+00, 0.00000000e+00, 0.00000000e+00,\n",
       "       0.00000000e+00, 0.00000000e+00])"
      ]
     },
     "execution_count": 52,
     "metadata": {},
     "output_type": "execute_result"
    }
   ],
   "source": [
    "centers[0]"
   ]
  },
  {
   "cell_type": "code",
   "execution_count": 53,
   "metadata": {},
   "outputs": [
    {
     "name": "stdout",
     "output_type": "stream",
     "text": [
      "Cluster Centers:\n",
      "Cluster  1 [0.00000000e+00 7.59810377e-02 0.00000000e+00 0.00000000e+00\n",
      " 0.00000000e+00 1.00000000e+00 0.00000000e+00 2.23860943e-03\n",
      " 0.00000000e+00 0.00000000e+00 0.00000000e+00 0.00000000e+00\n",
      " 0.00000000e+00 9.21780353e-04 0.00000000e+00 2.63365815e-04\n",
      " 0.00000000e+00 0.00000000e+00 0.00000000e+00 0.00000000e+00\n",
      " 0.00000000e+00 0.00000000e+00 0.00000000e+00 2.63365815e-03\n",
      " 2.63365815e-03 2.89702397e-03 3.16038978e-03 2.89702397e-03\n",
      " 2.50197524e-03 0.00000000e+00 1.84356071e-03 1.58019489e-03\n",
      " 3.02870687e-03 2.76534106e-03 2.23860943e-03 0.00000000e+00\n",
      " 1.71187780e-03 1.18514617e-03 9.21780353e-04 1.21675007e-01\n",
      " 0.00000000e+00 0.00000000e+00 0.00000000e+00 0.00000000e+00\n",
      " 0.00000000e+00 0.00000000e+00 0.00000000e+00 0.00000000e+00\n",
      " 0.00000000e+00 0.00000000e+00 0.00000000e+00 0.00000000e+00\n",
      " 0.00000000e+00 0.00000000e+00]\n",
      "Cluster  2 [0.00000000e+00 0.00000000e+00 0.00000000e+00 0.00000000e+00\n",
      " 0.00000000e+00 0.00000000e+00 0.00000000e+00 1.00000000e+00\n",
      " 0.00000000e+00 0.00000000e+00 0.00000000e+00 0.00000000e+00\n",
      " 0.00000000e+00 0.00000000e+00 0.00000000e+00 1.22144864e-04\n",
      " 0.00000000e+00 0.00000000e+00 0.00000000e+00 0.00000000e+00\n",
      " 0.00000000e+00 0.00000000e+00 0.00000000e+00 8.14299092e-05\n",
      " 0.00000000e+00 4.07149546e-05 0.00000000e+00 0.00000000e+00\n",
      " 0.00000000e+00 0.00000000e+00 0.00000000e+00 0.00000000e+00\n",
      " 4.07149546e-05 0.00000000e+00 0.00000000e+00 0.00000000e+00\n",
      " 0.00000000e+00 0.00000000e+00 0.00000000e+00 7.89870119e-03\n",
      " 0.00000000e+00 0.00000000e+00 0.00000000e+00 0.00000000e+00\n",
      " 0.00000000e+00 0.00000000e+00 0.00000000e+00 0.00000000e+00\n",
      " 0.00000000e+00 0.00000000e+00 0.00000000e+00 0.00000000e+00\n",
      " 0.00000000e+00 0.00000000e+00]\n",
      "Cluster  3 [7.74771728e-01 7.58539060e-01 7.50760906e-01 7.53804532e-01\n",
      " 7.63273588e-01 7.44673656e-01 0.00000000e+00 6.76361177e-04\n",
      " 1.35272235e-03 1.00000000e+00 1.00000000e+00 0.00000000e+00\n",
      " 0.00000000e+00 1.69090294e-03 0.00000000e+00 0.00000000e+00\n",
      " 0.00000000e+00 0.00000000e+00 0.00000000e+00 0.00000000e+00\n",
      " 0.00000000e+00 0.00000000e+00 0.00000000e+00 3.07744335e-02\n",
      " 2.94217112e-02 2.90835306e-02 2.94217112e-02 3.14507947e-02\n",
      " 3.21271559e-02 2.60399053e-02 2.60399053e-02 2.73926277e-02\n",
      " 2.46871830e-02 2.84071694e-02 2.53635441e-02 0.00000000e+00\n",
      " 1.62326682e-02 1.48799459e-02 1.72472100e-02 1.00000000e+00\n",
      " 1.00000000e+00 1.00000000e+00 6.76361177e-04 0.00000000e+00\n",
      " 0.00000000e+00 0.00000000e+00 0.00000000e+00 0.00000000e+00\n",
      " 0.00000000e+00 0.00000000e+00 0.00000000e+00 0.00000000e+00\n",
      " 0.00000000e+00 0.00000000e+00]\n",
      "Cluster  4 [0.00000000e+00 0.00000000e+00 1.19474313e-03 0.00000000e+00\n",
      " 0.00000000e+00 5.97371565e-04 9.87455197e-01 1.73237754e-02\n",
      " 1.67264038e-02 0.00000000e+00 0.00000000e+00 5.97371565e-04\n",
      " 2.20430108e-01 5.97371565e-04 7.00119474e-01 1.07526882e-02\n",
      " 1.79211470e-03 1.61290323e-02 3.04659498e-02 8.96057348e-03\n",
      " 9.55794504e-03 8.96057348e-03 8.36320191e-03 0.00000000e+00\n",
      " 0.00000000e+00 0.00000000e+00 0.00000000e+00 0.00000000e+00\n",
      " 0.00000000e+00 0.00000000e+00 0.00000000e+00 0.00000000e+00\n",
      " 0.00000000e+00 0.00000000e+00 0.00000000e+00 0.00000000e+00\n",
      " 0.00000000e+00 0.00000000e+00 0.00000000e+00 1.00000000e+00\n",
      " 6.63082437e-02 0.00000000e+00 0.00000000e+00 0.00000000e+00\n",
      " 0.00000000e+00 0.00000000e+00 0.00000000e+00 0.00000000e+00\n",
      " 0.00000000e+00 0.00000000e+00 0.00000000e+00 0.00000000e+00\n",
      " 0.00000000e+00 0.00000000e+00]\n",
      "Cluster  5 [0.00000000e+00 7.73783186e-01 0.00000000e+00 7.27323009e-01\n",
      " 6.11725664e-01 6.19469027e-01 2.21238938e-03 3.31858407e-03\n",
      " 7.19026549e-03 2.75442478e-01 0.00000000e+00 5.53097345e-04\n",
      " 1.65929204e-03 6.08407080e-03 0.00000000e+00 5.53097345e-04\n",
      " 0.00000000e+00 0.00000000e+00 0.00000000e+00 0.00000000e+00\n",
      " 0.00000000e+00 0.00000000e+00 0.00000000e+00 1.99115044e-02\n",
      " 2.43362832e-02 2.37831858e-02 2.59955752e-02 2.82079646e-02\n",
      " 2.32300885e-02 1.38274336e-02 2.71017699e-02 2.37831858e-02\n",
      " 2.26769912e-02 2.37831858e-02 2.15707965e-02 1.10619469e-03\n",
      " 1.16150442e-02 1.38274336e-02 1.16150442e-02 1.00000000e+00\n",
      " 1.00000000e+00 7.35619469e-02 2.21238938e-03 0.00000000e+00\n",
      " 0.00000000e+00 0.00000000e+00 0.00000000e+00 0.00000000e+00\n",
      " 0.00000000e+00 0.00000000e+00 0.00000000e+00 0.00000000e+00\n",
      " 0.00000000e+00 0.00000000e+00]\n",
      "Cluster  6 [0. 0. 0. 0. 0. 0. 1. 0. 0. 0. 0. 0. 0. 0. 0. 0. 0. 0. 0. 0. 0. 0. 0. 0.\n",
      " 0. 0. 0. 0. 0. 0. 0. 0. 0. 0. 0. 0. 0. 0. 0. 0. 0. 0. 0. 0. 0. 0. 0. 0.\n",
      " 0. 0. 0. 0. 0. 0.]\n",
      "Cluster  7 [0.00000000e+00 0.00000000e+00 1.00000000e+00 0.00000000e+00\n",
      " 0.00000000e+00 0.00000000e+00 0.00000000e+00 1.69611307e-03\n",
      " 0.00000000e+00 0.00000000e+00 0.00000000e+00 0.00000000e+00\n",
      " 0.00000000e+00 1.41342756e-03 0.00000000e+00 2.82685512e-04\n",
      " 0.00000000e+00 0.00000000e+00 0.00000000e+00 0.00000000e+00\n",
      " 0.00000000e+00 0.00000000e+00 0.00000000e+00 3.95759717e-03\n",
      " 1.69611307e-03 1.97879859e-03 1.41342756e-03 3.53356890e-03\n",
      " 2.68551237e-03 0.00000000e+00 2.68551237e-03 2.54416961e-03\n",
      " 1.41342756e-03 2.40282686e-03 3.25088339e-03 0.00000000e+00\n",
      " 1.27208481e-03 1.13074205e-03 7.06713781e-04 4.38162544e-02\n",
      " 0.00000000e+00 0.00000000e+00 0.00000000e+00 0.00000000e+00\n",
      " 0.00000000e+00 0.00000000e+00 0.00000000e+00 0.00000000e+00\n",
      " 0.00000000e+00 0.00000000e+00 0.00000000e+00 0.00000000e+00\n",
      " 0.00000000e+00 0.00000000e+00]\n",
      "Cluster  8 [1.95202399e-01 1.72113943e-01 1.68515742e-01 1.00000000e+00\n",
      " 0.00000000e+00 1.73913043e-01 0.00000000e+00 5.39730135e-03\n",
      " 6.89655172e-03 8.03598201e-02 9.11544228e-02 2.99850075e-04\n",
      " 0.00000000e+00 4.19790105e-03 0.00000000e+00 1.19940030e-03\n",
      " 0.00000000e+00 0.00000000e+00 0.00000000e+00 0.00000000e+00\n",
      " 0.00000000e+00 0.00000000e+00 0.00000000e+00 6.59670165e-03\n",
      " 5.99700150e-03 8.69565217e-03 6.59670165e-03 5.39730135e-03\n",
      " 8.69565217e-03 3.29835082e-03 6.59670165e-03 5.99700150e-03\n",
      " 5.69715142e-03 4.49775112e-03 2.69865067e-03 0.00000000e+00\n",
      " 3.89805097e-03 2.99850075e-03 2.39880060e-03 1.00000000e+00\n",
      " 1.13943028e-02 0.00000000e+00 0.00000000e+00 0.00000000e+00\n",
      " 0.00000000e+00 0.00000000e+00 0.00000000e+00 0.00000000e+00\n",
      " 0.00000000e+00 0.00000000e+00 0.00000000e+00 0.00000000e+00\n",
      " 0.00000000e+00 0.00000000e+00]\n",
      "Cluster  9 [5.84873056e-03 7.31091320e-03 4.78532500e-03 1.06340556e-03\n",
      " 7.97554167e-04 5.05117639e-03 6.64628473e-04 5.72909743e-02\n",
      " 4.06752625e-01 5.31702778e-04 6.64628473e-04 2.65851389e-04\n",
      " 4.25362223e-03 2.02047056e-02 1.19633125e-03 3.98777084e-03\n",
      " 5.31702778e-04 3.98777084e-04 7.97554167e-04 2.65851389e-04\n",
      " 7.97554167e-04 1.06340556e-03 7.97554167e-04 1.72803403e-03\n",
      " 1.59510833e-03 1.46218264e-03 1.46218264e-03 1.46218264e-03\n",
      " 1.19633125e-03 0.00000000e+00 2.79143959e-03 9.30479862e-04\n",
      " 1.99388542e-03 1.19633125e-03 1.19633125e-03 3.08520537e-01\n",
      " 2.65851389e-04 6.64628473e-04 7.97554167e-04 1.00000000e+00\n",
      " 3.08121760e-01 0.00000000e+00 0.00000000e+00 0.00000000e+00\n",
      " 0.00000000e+00 0.00000000e+00 0.00000000e+00 0.00000000e+00\n",
      " 0.00000000e+00 0.00000000e+00 0.00000000e+00 0.00000000e+00\n",
      " 0.00000000e+00 0.00000000e+00]\n",
      "Cluster  10 [7.75594623e-04 2.06825233e-03 1.03412616e-03 5.17063082e-04\n",
      " 1.29265770e-03 7.75594623e-04 6.70113754e-01 1.55118925e-02\n",
      " 2.58531541e-03 2.58531541e-04 7.75594623e-04 9.98190279e-01\n",
      " 9.96122027e-01 4.47259566e-02 9.53464323e-01 9.11840745e-01\n",
      " 9.24767322e-01 9.22440538e-01 9.21147880e-01 9.25801448e-01\n",
      " 9.20372285e-01 9.05894519e-01 9.07704240e-01 0.00000000e+00\n",
      " 0.00000000e+00 0.00000000e+00 0.00000000e+00 2.58531541e-04\n",
      " 0.00000000e+00 0.00000000e+00 0.00000000e+00 0.00000000e+00\n",
      " 0.00000000e+00 0.00000000e+00 0.00000000e+00 0.00000000e+00\n",
      " 0.00000000e+00 0.00000000e+00 0.00000000e+00 1.00000000e+00\n",
      " 1.00000000e+00 1.00000000e+00 1.00000000e+00 4.60186143e-02\n",
      " 1.37021717e-02 1.37021717e-02 1.37021717e-02 1.26680455e-02\n",
      " 1.18924509e-02 0.00000000e+00 0.00000000e+00 0.00000000e+00\n",
      " 0.00000000e+00 0.00000000e+00]\n",
      "Cluster  11 [5.76902887e-01 0.00000000e+00 0.00000000e+00 4.77690289e-02\n",
      " 1.00000000e+00 5.50131234e-01 0.00000000e+00 2.62467192e-03\n",
      " 3.67454068e-03 1.40157480e-01 0.00000000e+00 0.00000000e+00\n",
      " 0.00000000e+00 5.24934383e-03 0.00000000e+00 1.04986877e-03\n",
      " 0.00000000e+00 0.00000000e+00 0.00000000e+00 0.00000000e+00\n",
      " 0.00000000e+00 0.00000000e+00 0.00000000e+00 9.97375328e-03\n",
      " 1.46981627e-02 7.87401575e-03 1.10236220e-02 9.44881890e-03\n",
      " 1.04986877e-02 1.41732283e-02 9.44881890e-03 7.34908136e-03\n",
      " 1.25984252e-02 1.20734908e-02 1.15485564e-02 0.00000000e+00\n",
      " 5.24934383e-03 3.14960630e-03 4.72440945e-03 1.00000000e+00\n",
      " 4.02099738e-01 8.92388451e-03 5.24934383e-04 0.00000000e+00\n",
      " 0.00000000e+00 0.00000000e+00 0.00000000e+00 0.00000000e+00\n",
      " 0.00000000e+00 0.00000000e+00 0.00000000e+00 0.00000000e+00\n",
      " 0.00000000e+00 0.00000000e+00]\n",
      "Cluster  12 [0. 0. 0. 0. 0. 0. 0. 0. 1. 0. 0. 0. 0. 0. 0. 0. 0. 0. 0. 0. 0. 0. 0. 0.\n",
      " 0. 0. 0. 0. 0. 0. 0. 0. 0. 0. 0. 0. 0. 0. 0. 0. 0. 0. 0. 0. 0. 0. 0. 0.\n",
      " 0. 0. 0. 0. 0. 0.]\n",
      "Cluster  13 [0.00000000e+00 1.00000000e+00 0.00000000e+00 0.00000000e+00\n",
      " 0.00000000e+00 0.00000000e+00 0.00000000e+00 1.56628222e-03\n",
      " 0.00000000e+00 0.00000000e+00 0.00000000e+00 0.00000000e+00\n",
      " 0.00000000e+00 1.28150363e-03 0.00000000e+00 1.42389292e-04\n",
      " 0.00000000e+00 0.00000000e+00 0.00000000e+00 0.00000000e+00\n",
      " 0.00000000e+00 0.00000000e+00 0.00000000e+00 1.99345009e-03\n",
      " 2.84778585e-03 2.42061797e-03 2.13583938e-03 2.27822868e-03\n",
      " 1.70867151e-03 0.00000000e+00 1.70867151e-03 2.56300726e-03\n",
      " 1.99345009e-03 3.27495372e-03 2.70539655e-03 0.00000000e+00\n",
      " 8.54335754e-04 8.54335754e-04 7.11946462e-04 4.11505055e-02\n",
      " 0.00000000e+00 0.00000000e+00 0.00000000e+00 0.00000000e+00\n",
      " 0.00000000e+00 0.00000000e+00 0.00000000e+00 0.00000000e+00\n",
      " 0.00000000e+00 0.00000000e+00 0.00000000e+00 0.00000000e+00\n",
      " 0.00000000e+00 0.00000000e+00]\n",
      "Cluster  14 [0. 0. 0. 0. 1. 0. 0. 0. 0. 0. 0. 0. 0. 0. 0. 0. 0. 0. 0. 0. 0. 0. 0. 0.\n",
      " 0. 0. 0. 0. 0. 0. 0. 0. 0. 0. 0. 0. 0. 0. 0. 0. 0. 0. 0. 0. 0. 0. 0. 0.\n",
      " 0. 0. 0. 0. 0. 0.]\n",
      "Cluster  15 [9.79623026e-01 9.81660723e-01 9.88792664e-01 9.82170148e-01\n",
      " 9.83698421e-01 9.75038207e-01 5.09424350e-04 2.03769740e-03\n",
      " 2.03769740e-03 9.32246561e-01 9.35303107e-01 5.09424350e-04\n",
      " 0.00000000e+00 1.37544575e-02 0.00000000e+00 1.52827305e-03\n",
      " 0.00000000e+00 0.00000000e+00 0.00000000e+00 0.00000000e+00\n",
      " 0.00000000e+00 0.00000000e+00 0.00000000e+00 2.03769740e-01\n",
      " 0.00000000e+00 0.00000000e+00 0.00000000e+00 2.03260316e-01\n",
      " 2.09373408e-01 0.00000000e+00 1.81355069e-01 2.00203770e-01\n",
      " 2.09882832e-01 0.00000000e+00 2.14977076e-01 0.00000000e+00\n",
      " 1.15639328e-01 1.11563933e-01 1.15129903e-01 1.00000000e+00\n",
      " 1.00000000e+00 1.00000000e+00 1.00000000e+00 1.12073357e-02\n",
      " 4.07539480e-03 1.52827305e-03 5.09424350e-04 5.09424350e-04\n",
      " 0.00000000e+00 0.00000000e+00 0.00000000e+00 0.00000000e+00\n",
      " 0.00000000e+00 0.00000000e+00]\n",
      "Cluster  16 [9.75925926e-01 9.84259259e-01 9.87037037e-01 9.83333333e-01\n",
      " 9.87962963e-01 9.87962963e-01 0.00000000e+00 9.25925926e-04\n",
      " 9.25925926e-04 9.31481481e-01 9.40740741e-01 0.00000000e+00\n",
      " 0.00000000e+00 1.85185185e-03 0.00000000e+00 9.25925926e-04\n",
      " 0.00000000e+00 0.00000000e+00 0.00000000e+00 0.00000000e+00\n",
      " 0.00000000e+00 0.00000000e+00 0.00000000e+00 2.68518519e-01\n",
      " 2.42592593e-01 2.29629630e-01 1.00000000e+00 2.52777778e-01\n",
      " 2.32407407e-01 0.00000000e+00 2.36111111e-01 2.46296296e-01\n",
      " 2.33333333e-01 2.22222222e-01 2.37037037e-01 0.00000000e+00\n",
      " 1.37962963e-01 1.26851852e-01 1.34259259e-01 1.00000000e+00\n",
      " 1.00000000e+00 1.00000000e+00 1.00000000e+00 1.01851852e-02\n",
      " 0.00000000e+00 0.00000000e+00 0.00000000e+00 0.00000000e+00\n",
      " 0.00000000e+00 0.00000000e+00 0.00000000e+00 0.00000000e+00\n",
      " 0.00000000e+00 0.00000000e+00]\n",
      "Cluster  17 [1.91048035e-02 1.69213974e-02 2.23799127e-02 2.51091703e-02\n",
      " 2.01965066e-02 2.07423581e-02 2.45633188e-02 1.80131004e-02\n",
      " 1.09170306e-03 1.41921397e-02 1.14628821e-02 6.38646288e-02\n",
      " 7.75109170e-02 6.33187773e-02 1.96506550e-02 2.94759825e-02\n",
      " 6.55021834e-03 5.45851528e-04 0.00000000e+00 4.91266376e-03\n",
      " 0.00000000e+00 0.00000000e+00 1.63755459e-03 5.45851528e-04\n",
      " 1.63755459e-03 5.45851528e-04 1.09170306e-03 5.45851528e-04\n",
      " 2.18340611e-03 0.00000000e+00 2.18340611e-03 0.00000000e+00\n",
      " 5.45851528e-04 1.63755459e-03 2.72925764e-03 5.45851528e-04\n",
      " 1.09170306e-03 0.00000000e+00 1.63755459e-03 1.00000000e+00\n",
      " 1.00000000e+00 1.00000000e+00 1.00000000e+00 3.40611354e-01\n",
      " 0.00000000e+00 0.00000000e+00 0.00000000e+00 0.00000000e+00\n",
      " 0.00000000e+00 0.00000000e+00 0.00000000e+00 0.00000000e+00\n",
      " 0.00000000e+00 0.00000000e+00]\n",
      "Cluster  18 [0.99800399 0.99401198 0.99401198 0.999002   0.99401198 0.999002\n",
      " 0.00698603 0.00698603 0.00698603 0.999002   0.99401198 0.00898204\n",
      " 0.00598802 0.01097804 0.00698603 0.00598802 0.00698603 0.00499002\n",
      " 0.00798403 0.00499002 0.00798403 0.00499002 0.00598802 0.79141717\n",
      " 0.80239521 0.80638723 0.7994012  0.78443114 0.80838323 0.80738523\n",
      " 0.78443114 0.78742515 0.7994012  0.78542914 0.78443114 0.00399202\n",
      " 0.61277445 0.60678643 0.59081836 1.         1.         1.\n",
      " 1.         0.99800399 0.01696607 0.01097804 0.01097804 0.00998004\n",
      " 0.00998004 0.00998004 0.00998004 0.00998004 0.00998004 0.00998004]\n",
      "Cluster  19 [0.00000000e+00 0.00000000e+00 0.00000000e+00 0.00000000e+00\n",
      " 0.00000000e+00 0.00000000e+00 0.00000000e+00 0.00000000e+00\n",
      " 0.00000000e+00 9.25244454e-02 0.00000000e+00 0.00000000e+00\n",
      " 0.00000000e+00 0.00000000e+00 1.12238461e-02 3.87708969e-02\n",
      " 1.73483335e-03 7.88560614e-05 3.67994953e-04 1.83997477e-04\n",
      " 1.57712123e-04 1.83997477e-04 1.31426769e-04 5.65135107e-03\n",
      " 5.67763642e-03 5.54620965e-03 5.51992430e-03 5.70392177e-03\n",
      " 5.36221218e-03 5.62506571e-03 5.83534854e-03 5.62506571e-03\n",
      " 5.59878036e-03 5.17821470e-03 4.88907581e-03 1.89254547e-03\n",
      " 2.83881821e-03 2.97024498e-03 2.99653033e-03 0.00000000e+00\n",
      " 0.00000000e+00 0.00000000e+00 0.00000000e+00 0.00000000e+00\n",
      " 0.00000000e+00 0.00000000e+00 0.00000000e+00 0.00000000e+00\n",
      " 0.00000000e+00 0.00000000e+00 0.00000000e+00 0.00000000e+00\n",
      " 0.00000000e+00 0.00000000e+00]\n",
      "Cluster  20 [0.03801653 0.0446281  0.03801653 0.04628099 0.04297521 0.03471074\n",
      " 0.17520661 0.02975207 0.01322314 0.0231405  0.0214876  0.16033058\n",
      " 0.16694215 0.07933884 0.14214876 0.03305785 0.03140496 0.01322314\n",
      " 0.03305785 0.02644628 0.01157025 0.01157025 0.00495868 0.01157025\n",
      " 0.01157025 0.00826446 0.00991736 0.00826446 0.00495868 0.00991736\n",
      " 0.00826446 0.01157025 0.01818182 0.00991736 0.00991736 0.01322314\n",
      " 0.00495868 0.01157025 0.01818182 1.         1.         1.\n",
      " 1.         1.         1.         0.53884298 0.25950413 0.15371901\n",
      " 0.10247934 0.0677686  0.05123967 0.03636364 0.0214876  0.00991736]\n",
      "Cluster  21 [0.00110011 0.         0.         0.         0.         0.\n",
      " 0.70187019 0.00330033 0.00440044 0.         0.         0.87678768\n",
      " 0.84928493 0.04510451 0.81958196 0.3740374  0.40814081 0.51925193\n",
      " 0.40814081 0.39053905 0.37073707 0.34873487 0.33443344 0.\n",
      " 0.         0.         0.         0.         0.         0.\n",
      " 0.         0.         0.         0.         0.         0.\n",
      " 0.         0.         0.         1.         1.         0.98459846\n",
      " 0.08030803 0.05060506 0.         0.         0.         0.\n",
      " 0.         0.         0.         0.         0.         0.        ]\n",
      "Cluster  22 [0.98865069 0.97477932 0.98612863 0.99117276 0.98486759 0.97982346\n",
      " 0.00126103 0.00126103 0.00126103 0.91172762 0.90920555 0.\n",
      " 0.         0.00504414 0.         0.00126103 0.         0.\n",
      " 0.         0.         0.         0.         0.         0.22824716\n",
      " 0.18663304 0.20554855 0.         0.2408575  0.21689786 0.\n",
      " 0.22572509 0.21689786 0.21059269 1.         0.17150063 0.\n",
      " 0.13493064 0.11727617 0.11349306 1.         1.         1.\n",
      " 1.         0.01134931 0.00126103 0.00126103 0.00126103 0.00126103\n",
      " 0.         0.         0.         0.         0.         0.        ]\n",
      "Cluster  23 [0.00000000e+00 3.32387975e-01 3.08564946e-01 0.00000000e+00\n",
      " 1.00000000e+00 0.00000000e+00 5.67214974e-04 9.07543959e-03\n",
      " 1.70164492e-02 1.59387408e-01 0.00000000e+00 0.00000000e+00\n",
      " 0.00000000e+00 7.37379467e-03 0.00000000e+00 1.13442995e-03\n",
      " 0.00000000e+00 0.00000000e+00 0.00000000e+00 0.00000000e+00\n",
      " 0.00000000e+00 0.00000000e+00 0.00000000e+00 1.36131594e-02\n",
      " 1.07770845e-02 1.19115145e-02 7.37379467e-03 1.07770845e-02\n",
      " 1.02098695e-02 9.07543959e-03 1.02098695e-02 1.07770845e-02\n",
      " 9.07543959e-03 1.02098695e-02 5.10493477e-03 0.00000000e+00\n",
      " 3.40328985e-03 2.26885990e-03 4.53771980e-03 1.00000000e+00\n",
      " 0.00000000e+00 0.00000000e+00 0.00000000e+00 0.00000000e+00\n",
      " 0.00000000e+00 0.00000000e+00 0.00000000e+00 0.00000000e+00\n",
      " 0.00000000e+00 0.00000000e+00 0.00000000e+00 0.00000000e+00\n",
      " 0.00000000e+00 0.00000000e+00]\n",
      "Cluster  24 [2.30684932e-01 0.00000000e+00 9.76986301e-01 2.26301370e-01\n",
      " 2.29589041e-01 1.00000000e+00 0.00000000e+00 3.83561644e-03\n",
      " 2.73972603e-03 2.35616438e-02 1.04109589e-01 0.00000000e+00\n",
      " 0.00000000e+00 2.19178082e-03 0.00000000e+00 0.00000000e+00\n",
      " 0.00000000e+00 0.00000000e+00 0.00000000e+00 0.00000000e+00\n",
      " 0.00000000e+00 0.00000000e+00 0.00000000e+00 1.15068493e-02\n",
      " 1.26027397e-02 8.76712329e-03 1.36986301e-02 8.21917808e-03\n",
      " 9.31506849e-03 9.31506849e-03 6.57534247e-03 1.26027397e-02\n",
      " 8.76712329e-03 6.57534247e-03 9.86301370e-03 5.47945205e-04\n",
      " 4.38356164e-03 3.28767123e-03 5.47945205e-03 1.00000000e+00\n",
      " 6.67397260e-01 1.36986301e-02 1.09589041e-03 0.00000000e+00\n",
      " 0.00000000e+00 0.00000000e+00 0.00000000e+00 0.00000000e+00\n",
      " 0.00000000e+00 0.00000000e+00 0.00000000e+00 0.00000000e+00\n",
      " 0.00000000e+00 0.00000000e+00]\n",
      "Cluster  25 [1. 0. 0. 0. 0. 0. 0. 0. 0. 0. 0. 0. 0. 0. 0. 0. 0. 0. 0. 0. 0. 0. 0. 0.\n",
      " 0. 0. 0. 0. 0. 0. 0. 0. 0. 0. 0. 0. 0. 0. 0. 0. 0. 0. 0. 0. 0. 0. 0. 0.\n",
      " 0. 0. 0. 0. 0. 0.]\n",
      "Cluster  26 [0. 0. 0. 0. 0. 0. 0. 0. 0. 0. 1. 0. 0. 0. 0. 0. 0. 0. 0. 0. 0. 0. 0. 0.\n",
      " 0. 0. 0. 0. 0. 0. 0. 0. 0. 0. 0. 0. 0. 0. 0. 0. 0. 0. 0. 0. 0. 0. 0. 0.\n",
      " 0. 0. 0. 0. 0. 0.]\n",
      "Cluster  27 [9.85363551e-01 9.48536355e-01 0.00000000e+00 2.76203966e-01\n",
      " 2.19074599e-01 1.92162417e-01 0.00000000e+00 3.77714825e-03\n",
      " 3.30500472e-03 1.14730878e-01 7.27101039e-02 4.72143532e-04\n",
      " 0.00000000e+00 4.72143532e-03 0.00000000e+00 4.72143532e-04\n",
      " 0.00000000e+00 0.00000000e+00 0.00000000e+00 0.00000000e+00\n",
      " 0.00000000e+00 0.00000000e+00 0.00000000e+00 9.91501416e-03\n",
      " 1.32200189e-02 8.97072710e-03 1.27478754e-02 9.91501416e-03\n",
      " 1.18035883e-02 7.08215297e-03 1.27478754e-02 8.02644004e-03\n",
      " 6.13786591e-03 9.91501416e-03 8.97072710e-03 0.00000000e+00\n",
      " 8.97072710e-03 5.19357885e-03 6.61000944e-03 1.00000000e+00\n",
      " 7.14353163e-01 1.08593012e-02 4.72143532e-04 0.00000000e+00\n",
      " 0.00000000e+00 0.00000000e+00 0.00000000e+00 0.00000000e+00\n",
      " 0.00000000e+00 0.00000000e+00 0.00000000e+00 0.00000000e+00\n",
      " 0.00000000e+00 0.00000000e+00]\n",
      "Cluster  28 [0.46137339 0.20886981 0.1416309  0.65021459 0.76108727 0.02432046\n",
      " 0.         0.00143062 0.00643777 0.18741059 0.80615165 0.\n",
      " 0.         0.00143062 0.         0.         0.         0.\n",
      " 0.         0.         0.         0.         0.         0.01144492\n",
      " 0.00429185 0.01788269 0.01287554 0.00858369 0.01144492 0.01072961\n",
      " 0.01645207 0.01573677 0.01430615 0.01359084 0.01144492 0.\n",
      " 0.00786838 0.01001431 0.01001431 1.         1.         0.03361946\n",
      " 0.00214592 0.         0.         0.         0.         0.\n",
      " 0.         0.         0.         0.         0.         0.        ]\n",
      "Cluster  29 [0.         0.         0.         0.         0.         0.\n",
      " 0.         0.00220264 0.         0.         0.         0.\n",
      " 1.         0.00220264 0.         0.00220264 0.00660793 0.\n",
      " 0.00440529 0.00220264 0.         0.00220264 0.         0.\n",
      " 0.         0.         0.         0.         0.         0.\n",
      " 0.         0.         0.         0.         0.         0.\n",
      " 0.         0.         0.         0.05066079 0.         0.\n",
      " 0.         0.         0.         0.         0.         0.\n",
      " 0.         0.         0.         0.         0.         0.        ]\n",
      "Cluster  30 [0.19640788 0.21089224 0.18945539 0.         0.         0.20567787\n",
      " 0.         0.00521437 0.01100811 1.         0.0787949  0.\n",
      " 0.         0.00347625 0.         0.00115875 0.         0.\n",
      " 0.         0.         0.         0.         0.         0.00984936\n",
      " 0.01158749 0.01100811 0.01100811 0.00984936 0.01216686 0.\n",
      " 0.01216686 0.00984936 0.01158749 0.01216686 0.00753187 0.\n",
      " 0.00695249 0.00579374 0.00347625 1.         0.07995365 0.\n",
      " 0.         0.         0.         0.         0.         0.\n",
      " 0.         0.         0.         0.         0.         0.        ]\n",
      "Cluster  31 [1.00000000e+00 0.00000000e+00 7.23720930e-01 0.00000000e+00\n",
      " 0.00000000e+00 0.00000000e+00 0.00000000e+00 1.20930233e-02\n",
      " 5.58139535e-03 0.00000000e+00 8.46511628e-02 0.00000000e+00\n",
      " 0.00000000e+00 8.37209302e-03 0.00000000e+00 0.00000000e+00\n",
      " 0.00000000e+00 0.00000000e+00 0.00000000e+00 0.00000000e+00\n",
      " 0.00000000e+00 0.00000000e+00 0.00000000e+00 1.95348837e-02\n",
      " 2.88372093e-02 1.76744186e-02 2.04651163e-02 2.51162791e-02\n",
      " 2.04651163e-02 0.00000000e+00 2.23255814e-02 2.51162791e-02\n",
      " 1.58139535e-02 1.86046512e-02 2.13953488e-02 9.30232558e-04\n",
      " 9.30232558e-03 1.39534884e-02 7.44186047e-03 1.00000000e+00\n",
      " 1.52558140e-01 0.00000000e+00 0.00000000e+00 0.00000000e+00\n",
      " 0.00000000e+00 0.00000000e+00 0.00000000e+00 0.00000000e+00\n",
      " 0.00000000e+00 0.00000000e+00 0.00000000e+00 0.00000000e+00\n",
      " 0.00000000e+00 0.00000000e+00]\n",
      "Cluster  32 [0.00000000e+00 3.49406010e-04 0.00000000e+00 0.00000000e+00\n",
      " 0.00000000e+00 6.98812020e-04 1.04821803e-01 3.14465409e-03\n",
      " 6.28930818e-03 0.00000000e+00 0.00000000e+00 1.00000000e+00\n",
      " 2.53319357e-01 3.49406010e-03 3.49406010e-03 2.44584207e-03\n",
      " 4.54227813e-03 1.04821803e-03 1.74703005e-03 6.98812020e-04\n",
      " 6.98812020e-04 1.74703005e-03 2.44584207e-03 0.00000000e+00\n",
      " 0.00000000e+00 0.00000000e+00 0.00000000e+00 0.00000000e+00\n",
      " 0.00000000e+00 0.00000000e+00 0.00000000e+00 0.00000000e+00\n",
      " 0.00000000e+00 0.00000000e+00 0.00000000e+00 0.00000000e+00\n",
      " 0.00000000e+00 0.00000000e+00 0.00000000e+00 4.37456324e-01\n",
      " 1.18798043e-02 0.00000000e+00 0.00000000e+00 0.00000000e+00\n",
      " 0.00000000e+00 0.00000000e+00 0.00000000e+00 0.00000000e+00\n",
      " 0.00000000e+00 0.00000000e+00 0.00000000e+00 0.00000000e+00\n",
      " 0.00000000e+00 0.00000000e+00]\n",
      "Cluster  33 [0. 0. 0. 1. 0. 0. 0. 0. 0. 0. 0. 0. 0. 0. 0. 0. 0. 0. 0. 0. 0. 0. 0. 0.\n",
      " 0. 0. 0. 0. 0. 0. 0. 0. 0. 0. 0. 0. 0. 0. 0. 0. 0. 0. 0. 0. 0. 0. 0. 0.\n",
      " 0. 0. 0. 0. 0. 0.]\n",
      "Cluster  34 [1.50829563e-03 9.59824489e-04 1.09694227e-03 6.85588921e-04\n",
      " 1.23406006e-03 8.22706705e-04 9.52968600e-01 1.08323049e-02\n",
      " 1.91964898e-02 8.22706705e-04 4.11353353e-04 9.94241053e-01\n",
      " 9.88619224e-01 8.22706705e-04 8.22706705e-03 3.29082682e-03\n",
      " 1.23406006e-03 1.50829563e-03 2.46812012e-03 2.33100233e-03\n",
      " 1.37117784e-03 2.05676676e-03 2.05676676e-03 0.00000000e+00\n",
      " 0.00000000e+00 0.00000000e+00 0.00000000e+00 0.00000000e+00\n",
      " 0.00000000e+00 0.00000000e+00 1.37117784e-04 0.00000000e+00\n",
      " 0.00000000e+00 1.37117784e-04 1.37117784e-04 9.59824489e-04\n",
      " 0.00000000e+00 1.37117784e-04 0.00000000e+00 1.00000000e+00\n",
      " 1.00000000e+00 1.34375428e-02 2.19388455e-03 1.23406006e-03\n",
      " 0.00000000e+00 0.00000000e+00 0.00000000e+00 0.00000000e+00\n",
      " 0.00000000e+00 0.00000000e+00 0.00000000e+00 0.00000000e+00\n",
      " 0.00000000e+00 0.00000000e+00]\n",
      "Cluster  35 [9.88522238e-01 9.77044476e-01 9.84218077e-01 9.84218077e-01\n",
      " 9.81348637e-01 9.87087518e-01 0.00000000e+00 2.15208034e-03\n",
      " 1.43472023e-03 9.28981349e-01 9.42611191e-01 0.00000000e+00\n",
      " 0.00000000e+00 5.73888092e-03 7.17360115e-04 7.17360115e-04\n",
      " 0.00000000e+00 0.00000000e+00 0.00000000e+00 0.00000000e+00\n",
      " 0.00000000e+00 0.00000000e+00 0.00000000e+00 2.51076040e-01\n",
      " 2.28120516e-01 2.43185079e-01 2.49641320e-01 2.30272597e-01\n",
      " 2.43185079e-01 1.00000000e+00 2.40315638e-01 2.39598278e-01\n",
      " 2.47489240e-01 2.31707317e-01 2.41750359e-01 0.00000000e+00\n",
      " 1.48493544e-01 1.18364419e-01 1.41319943e-01 1.00000000e+00\n",
      " 1.00000000e+00 1.00000000e+00 1.00000000e+00 1.07604017e-02\n",
      " 7.17360115e-04 0.00000000e+00 0.00000000e+00 0.00000000e+00\n",
      " 0.00000000e+00 0.00000000e+00 0.00000000e+00 0.00000000e+00\n",
      " 0.00000000e+00 0.00000000e+00]\n",
      "Cluster  36 [3.70503597e-01 2.15827338e-02 9.22661871e-01 6.99640288e-01\n",
      " 3.71103118e-01 2.45803357e-02 0.00000000e+00 5.99520384e-03\n",
      " 4.79616307e-03 4.83213429e-01 1.88848921e-01 0.00000000e+00\n",
      " 0.00000000e+00 5.39568345e-03 0.00000000e+00 5.99520384e-04\n",
      " 0.00000000e+00 0.00000000e+00 0.00000000e+00 0.00000000e+00\n",
      " 0.00000000e+00 0.00000000e+00 0.00000000e+00 2.03836930e-02\n",
      " 1.97841727e-02 2.03836930e-02 2.51798561e-02 2.27817746e-02\n",
      " 1.91846523e-02 9.59232614e-03 1.97841727e-02 2.09832134e-02\n",
      " 1.73860911e-02 1.79856115e-02 2.45803357e-02 0.00000000e+00\n",
      " 1.25899281e-02 1.13908873e-02 1.37889688e-02 1.00000000e+00\n",
      " 1.00000000e+00 4.91606715e-02 2.99760192e-03 0.00000000e+00\n",
      " 0.00000000e+00 0.00000000e+00 0.00000000e+00 0.00000000e+00\n",
      " 0.00000000e+00 0.00000000e+00 0.00000000e+00 0.00000000e+00\n",
      " 0.00000000e+00 0.00000000e+00]\n",
      "Cluster  37 [8.51570415e-01 7.82168186e-01 7.60638298e-01 8.98176292e-01\n",
      " 8.30040527e-01 7.97619048e-01 2.53292806e-04 1.51975684e-03\n",
      " 7.59878419e-04 5.92451874e-01 0.00000000e+00 2.53292806e-04\n",
      " 5.06585613e-04 3.29280648e-03 0.00000000e+00 5.06585613e-04\n",
      " 0.00000000e+00 0.00000000e+00 0.00000000e+00 0.00000000e+00\n",
      " 0.00000000e+00 0.00000000e+00 0.00000000e+00 4.38196555e-02\n",
      " 4.17933131e-02 4.40729483e-02 4.12867275e-02 4.71124620e-02\n",
      " 4.78723404e-02 4.35663627e-02 4.86322188e-02 4.17933131e-02\n",
      " 3.92603850e-02 4.78723404e-02 4.22998987e-02 2.53292806e-04\n",
      " 2.27963526e-02 2.35562310e-02 2.20364742e-02 1.00000000e+00\n",
      " 1.00000000e+00 1.00000000e+00 6.58561297e-03 2.02634245e-03\n",
      " 2.53292806e-04 0.00000000e+00 0.00000000e+00 0.00000000e+00\n",
      " 0.00000000e+00 0.00000000e+00 0.00000000e+00 0.00000000e+00\n",
      " 0.00000000e+00 0.00000000e+00]\n",
      "Cluster  38 [0.00000000e+00 0.00000000e+00 0.00000000e+00 0.00000000e+00\n",
      " 0.00000000e+00 0.00000000e+00 0.00000000e+00 4.04091426e-03\n",
      " 0.00000000e+00 0.00000000e+00 0.00000000e+00 0.00000000e+00\n",
      " 0.00000000e+00 1.00000000e+00 0.00000000e+00 6.31392853e-04\n",
      " 0.00000000e+00 0.00000000e+00 0.00000000e+00 0.00000000e+00\n",
      " 0.00000000e+00 0.00000000e+00 0.00000000e+00 0.00000000e+00\n",
      " 0.00000000e+00 1.26278571e-04 0.00000000e+00 0.00000000e+00\n",
      " 0.00000000e+00 0.00000000e+00 1.26278571e-04 0.00000000e+00\n",
      " 1.26278571e-04 0.00000000e+00 0.00000000e+00 0.00000000e+00\n",
      " 0.00000000e+00 0.00000000e+00 0.00000000e+00 2.96754641e-02\n",
      " 0.00000000e+00 0.00000000e+00 0.00000000e+00 0.00000000e+00\n",
      " 0.00000000e+00 0.00000000e+00 0.00000000e+00 0.00000000e+00\n",
      " 0.00000000e+00 0.00000000e+00 0.00000000e+00 0.00000000e+00\n",
      " 0.00000000e+00 0.00000000e+00]\n",
      "Cluster  39 [9.90061162e-01 7.77522936e-01 9.93883792e-01 9.63302752e-02\n",
      " 5.21406728e-01 2.79051988e-01 0.00000000e+00 3.05810398e-03\n",
      " 3.05810398e-03 1.13149847e-01 4.20489297e-02 0.00000000e+00\n",
      " 7.64525994e-04 5.35168196e-03 0.00000000e+00 0.00000000e+00\n",
      " 0.00000000e+00 0.00000000e+00 0.00000000e+00 0.00000000e+00\n",
      " 0.00000000e+00 0.00000000e+00 0.00000000e+00 2.82874618e-02\n",
      " 3.51681957e-02 2.98165138e-02 2.52293578e-02 3.44036697e-02\n",
      " 3.05810398e-02 2.98165138e-02 2.90519878e-02 3.28746177e-02\n",
      " 2.06422018e-02 2.14067278e-02 3.05810398e-02 0.00000000e+00\n",
      " 1.45259939e-02 1.29969419e-02 1.45259939e-02 1.00000000e+00\n",
      " 1.00000000e+00 3.93730887e-01 9.17431193e-03 2.29357798e-03\n",
      " 0.00000000e+00 0.00000000e+00 0.00000000e+00 0.00000000e+00\n",
      " 0.00000000e+00 0.00000000e+00 0.00000000e+00 0.00000000e+00\n",
      " 0.00000000e+00 0.00000000e+00]\n",
      "Cluster  40 [1.49447693e-02 1.49447693e-02 1.55945419e-02 2.46913580e-02\n",
      " 2.07927225e-02 1.36452242e-02 3.89863548e-03 1.16959064e-02\n",
      " 1.03963613e-02 1.49447693e-02 1.16959064e-02 3.89863548e-03\n",
      " 1.29954516e-02 4.93827160e-02 7.79727096e-03 3.89863548e-03\n",
      " 1.29954516e-03 0.00000000e+00 0.00000000e+00 0.00000000e+00\n",
      " 0.00000000e+00 0.00000000e+00 0.00000000e+00 2.59909032e-03\n",
      " 2.59909032e-03 2.59909032e-03 1.29954516e-03 1.94931774e-03\n",
      " 1.29954516e-03 1.29954516e-03 1.29954516e-03 1.94931774e-03\n",
      " 6.49772580e-04 1.29954516e-03 2.59909032e-03 1.29954516e-03\n",
      " 1.94931774e-03 1.94931774e-03 6.49772580e-04 1.00000000e+00\n",
      " 1.00000000e+00 1.00000000e+00 0.00000000e+00 0.00000000e+00\n",
      " 0.00000000e+00 0.00000000e+00 0.00000000e+00 0.00000000e+00\n",
      " 0.00000000e+00 0.00000000e+00 0.00000000e+00 0.00000000e+00\n",
      " 0.00000000e+00 0.00000000e+00]\n",
      "Cluster  41 [3.48189415e-01 3.12906221e-01 6.12813370e-02 1.82915506e-01\n",
      " 1.89415042e-01 7.92014856e-01 9.28505107e-04 1.85701021e-03\n",
      " 1.85701021e-03 2.54410399e-01 1.00000000e+00 0.00000000e+00\n",
      " 0.00000000e+00 4.64252553e-03 0.00000000e+00 0.00000000e+00\n",
      " 0.00000000e+00 0.00000000e+00 0.00000000e+00 0.00000000e+00\n",
      " 0.00000000e+00 0.00000000e+00 0.00000000e+00 1.48560817e-02\n",
      " 1.94986072e-02 1.20705664e-02 1.94986072e-02 1.11420613e-02\n",
      " 1.39275766e-02 1.85701021e-03 2.32126277e-02 2.13556175e-02\n",
      " 1.85701021e-02 1.76415970e-02 1.67130919e-02 0.00000000e+00\n",
      " 1.02135562e-02 6.49953575e-03 9.28505107e-03 1.00000000e+00\n",
      " 1.00000000e+00 2.41411328e-02 2.78551532e-03 0.00000000e+00\n",
      " 0.00000000e+00 0.00000000e+00 0.00000000e+00 0.00000000e+00\n",
      " 0.00000000e+00 0.00000000e+00 0.00000000e+00 0.00000000e+00\n",
      " 0.00000000e+00 0.00000000e+00]\n",
      "Cluster  42 [0.00118483 0.00118483 0.         0.         0.00118483 0.00118483\n",
      " 0.99526066 0.00592417 0.007109   0.00236967 0.         0.\n",
      " 0.00473934 0.         0.01421801 0.         1.         0.00236967\n",
      " 0.         0.00236967 0.00236967 0.00118483 0.         0.\n",
      " 0.         0.         0.         0.         0.         0.\n",
      " 0.         0.         0.         0.         0.         0.00473934\n",
      " 0.         0.         0.         1.         0.06042654 0.0035545\n",
      " 0.         0.         0.         0.         0.         0.\n",
      " 0.         0.         0.         0.         0.         0.        ]\n",
      "Cluster  43 [7.70351937e-01 7.51866335e-01 7.57554213e-01 7.71062922e-01\n",
      " 7.88482048e-01 7.68574476e-01 0.00000000e+00 1.77746178e-03\n",
      " 2.84393886e-03 0.00000000e+00 1.00000000e+00 0.00000000e+00\n",
      " 0.00000000e+00 4.97689300e-03 0.00000000e+00 0.00000000e+00\n",
      " 0.00000000e+00 0.00000000e+00 0.00000000e+00 0.00000000e+00\n",
      " 0.00000000e+00 0.00000000e+00 0.00000000e+00 4.69249911e-02\n",
      " 4.44365446e-02 4.33700675e-02 3.73266975e-02 3.69712051e-02\n",
      " 4.01706363e-02 4.12371134e-02 4.44365446e-02 4.08816210e-02\n",
      " 4.23035905e-02 3.62602204e-02 3.69712051e-02 7.10984714e-04\n",
      " 2.09740491e-02 2.06185567e-02 2.09740491e-02 1.00000000e+00\n",
      " 1.00000000e+00 1.00000000e+00 5.68787771e-03 7.10984714e-04\n",
      " 3.55492357e-04 0.00000000e+00 0.00000000e+00 0.00000000e+00\n",
      " 0.00000000e+00 0.00000000e+00 0.00000000e+00 0.00000000e+00\n",
      " 0.00000000e+00 0.00000000e+00]\n",
      "Cluster  44 [9.88185654e-01 9.84810127e-01 9.80590717e-01 9.77215190e-01\n",
      " 9.74683544e-01 9.72151899e-01 1.68776371e-03 0.00000000e+00\n",
      " 2.53164557e-03 9.09704641e-01 9.26582278e-01 1.68776371e-03\n",
      " 1.68776371e-03 5.06329114e-03 0.00000000e+00 5.06329114e-03\n",
      " 0.00000000e+00 0.00000000e+00 0.00000000e+00 0.00000000e+00\n",
      " 0.00000000e+00 0.00000000e+00 0.00000000e+00 1.96624473e-01\n",
      " 5.72151899e-01 5.52742616e-01 5.06329114e-03 1.94092827e-01\n",
      " 1.81434599e-01 8.43881857e-03 1.85654008e-01 1.79746835e-01\n",
      " 1.85654008e-01 5.90717300e-03 2.00843882e-01 0.00000000e+00\n",
      " 1.02953586e-01 1.31645570e-01 1.08016878e-01 1.00000000e+00\n",
      " 1.00000000e+00 1.00000000e+00 1.00000000e+00 5.90717300e-03\n",
      " 8.43881857e-04 0.00000000e+00 0.00000000e+00 0.00000000e+00\n",
      " 0.00000000e+00 0.00000000e+00 0.00000000e+00 0.00000000e+00\n",
      " 0.00000000e+00 0.00000000e+00]\n",
      "Cluster  45 [6.38930163e-02 8.64784547e-01 9.19762259e-01 1.70133730e-01\n",
      " 2.57057949e-01 8.38038633e-01 7.42942051e-04 1.48588410e-03\n",
      " 2.97176820e-03 5.94353640e-01 9.06389302e-02 0.00000000e+00\n",
      " 7.42942051e-04 3.71471025e-03 0.00000000e+00 7.42942051e-04\n",
      " 0.00000000e+00 0.00000000e+00 0.00000000e+00 0.00000000e+00\n",
      " 0.00000000e+00 0.00000000e+00 0.00000000e+00 2.89747400e-02\n",
      " 2.15453195e-02 3.26894502e-02 2.52600297e-02 2.89747400e-02\n",
      " 2.89747400e-02 2.67459138e-02 2.67459138e-02 2.30312036e-02\n",
      " 2.00594354e-02 2.45170877e-02 2.45170877e-02 0.00000000e+00\n",
      " 8.91530461e-03 1.56017831e-02 1.78306092e-02 1.00000000e+00\n",
      " 1.00000000e+00 3.71471025e-01 7.42942051e-03 2.22882615e-03\n",
      " 0.00000000e+00 0.00000000e+00 0.00000000e+00 0.00000000e+00\n",
      " 0.00000000e+00 0.00000000e+00 0.00000000e+00 0.00000000e+00\n",
      " 0.00000000e+00 0.00000000e+00]\n",
      "Cluster  46 [0.19672131 0.20765027 0.25136612 0.12568306 0.09836066 0.15846995\n",
      " 0.         0.00546448 0.02185792 0.18032787 0.09836066 0.\n",
      " 0.         0.00546448 0.         0.         0.         0.\n",
      " 0.         0.         0.         0.         0.         0.03278689\n",
      " 0.01639344 0.01092896 0.01092896 0.01639344 0.01639344 1.\n",
      " 0.00546448 0.01639344 0.01092896 0.01639344 0.01639344 0.\n",
      " 0.01092896 0.01092896 0.         1.         0.44262295 0.03278689\n",
      " 0.         0.         0.         0.         0.         0.\n",
      " 0.         0.         0.         0.         0.         0.        ]\n",
      "Cluster  47 [0.         0.         0.         1.         1.         0.\n",
      " 0.         0.001321   0.00396301 0.12153236 0.         0.\n",
      " 0.         0.00396301 0.         0.         0.         0.\n",
      " 0.         0.         0.         0.         0.         0.01188904\n",
      " 0.00660502 0.00660502 0.00528402 0.00660502 0.00924703 0.00528402\n",
      " 0.00924703 0.00660502 0.01188904 0.00924703 0.01056803 0.\n",
      " 0.001321   0.00792602 0.00396301 1.         0.23117569 0.01585205\n",
      " 0.         0.         0.         0.         0.         0.\n",
      " 0.         0.         0.         0.         0.         0.        ]\n",
      "Cluster  48 [1.72222222e-01 1.65432099e-01 1.78395062e-01 0.00000000e+00\n",
      " 1.95061728e-01 1.84567901e-01 0.00000000e+00 6.79012346e-03\n",
      " 9.87654321e-03 0.00000000e+00 1.00000000e+00 0.00000000e+00\n",
      " 0.00000000e+00 3.08641975e-03 0.00000000e+00 6.17283951e-04\n",
      " 0.00000000e+00 0.00000000e+00 0.00000000e+00 0.00000000e+00\n",
      " 0.00000000e+00 0.00000000e+00 0.00000000e+00 5.55555556e-03\n",
      " 5.55555556e-03 6.79012346e-03 7.40740741e-03 3.08641975e-03\n",
      " 7.40740741e-03 4.93827160e-03 2.46913580e-03 3.70370370e-03\n",
      " 4.32098765e-03 6.79012346e-03 3.08641975e-03 0.00000000e+00\n",
      " 0.00000000e+00 2.46913580e-03 3.08641975e-03 1.00000000e+00\n",
      " 0.00000000e+00 0.00000000e+00 0.00000000e+00 0.00000000e+00\n",
      " 0.00000000e+00 0.00000000e+00 0.00000000e+00 0.00000000e+00\n",
      " 0.00000000e+00 0.00000000e+00 0.00000000e+00 0.00000000e+00\n",
      " 0.00000000e+00 0.00000000e+00]\n",
      "Cluster  49 [1.00000000e+00 0.00000000e+00 0.00000000e+00 2.30158730e-01\n",
      " 0.00000000e+00 1.00000000e+00 0.00000000e+00 9.92063492e-04\n",
      " 1.98412698e-03 1.32936508e-01 0.00000000e+00 0.00000000e+00\n",
      " 0.00000000e+00 3.96825397e-03 0.00000000e+00 0.00000000e+00\n",
      " 0.00000000e+00 0.00000000e+00 0.00000000e+00 0.00000000e+00\n",
      " 0.00000000e+00 0.00000000e+00 0.00000000e+00 9.92063492e-03\n",
      " 1.88492063e-02 9.92063492e-03 7.93650794e-03 9.92063492e-03\n",
      " 1.09126984e-02 9.92063492e-03 1.48809524e-02 9.92063492e-03\n",
      " 7.93650794e-03 1.19047619e-02 1.28968254e-02 0.00000000e+00\n",
      " 3.96825397e-03 8.92857143e-03 4.96031746e-03 1.00000000e+00\n",
      " 4.27579365e-01 1.48809524e-02 0.00000000e+00 0.00000000e+00\n",
      " 0.00000000e+00 0.00000000e+00 0.00000000e+00 0.00000000e+00\n",
      " 0.00000000e+00 0.00000000e+00 0.00000000e+00 0.00000000e+00\n",
      " 0.00000000e+00 0.00000000e+00]\n",
      "Cluster  50 [0.00000000e+00 1.00000000e+00 1.00000000e+00 2.31066461e-01\n",
      " 2.45749614e-01 0.00000000e+00 7.72797527e-04 1.54559505e-03\n",
      " 5.40958269e-03 0.00000000e+00 1.31375580e-01 0.00000000e+00\n",
      " 7.72797527e-04 7.72797527e-04 0.00000000e+00 1.54559505e-03\n",
      " 0.00000000e+00 0.00000000e+00 0.00000000e+00 0.00000000e+00\n",
      " 0.00000000e+00 0.00000000e+00 0.00000000e+00 1.08191654e-02\n",
      " 1.08191654e-02 9.27357032e-03 1.31375580e-02 1.08191654e-02\n",
      " 1.23647604e-02 9.27357032e-03 7.72797527e-03 1.08191654e-02\n",
      " 1.39103555e-02 1.23647604e-02 7.72797527e-03 1.54559505e-03\n",
      " 3.86398764e-03 7.72797527e-03 3.86398764e-03 1.00000000e+00\n",
      " 5.60278207e-01 1.15919629e-02 0.00000000e+00 0.00000000e+00\n",
      " 0.00000000e+00 0.00000000e+00 0.00000000e+00 0.00000000e+00\n",
      " 0.00000000e+00 0.00000000e+00 0.00000000e+00 0.00000000e+00\n",
      " 0.00000000e+00 0.00000000e+00]\n"
     ]
    }
   ],
   "source": [
    "print(\"Cluster Centers:\")\n",
    "i=0\n",
    "for center in centers:\n",
    "    print(\"Cluster \", str(i+1), center)\n",
    "    i = i+1"
   ]
  },
  {
   "cell_type": "markdown",
   "metadata": {},
   "source": [
    "# Part C Percentage of Mirai Malwares in Each Cluster\n"
   ]
  },
  {
   "cell_type": "markdown",
   "metadata": {},
   "source": [
    "# Exercise 9 (10 points)\n",
    "Complete the following code to compute the percentage of Mirai Malwares, Zmap, and Masscan in each cluster."
   ]
  },
  {
   "cell_type": "code",
   "execution_count": 54,
   "metadata": {},
   "outputs": [
    {
     "name": "stdout",
     "output_type": "stream",
     "text": [
      "Cluster  3 ; Mirai Ratio: 0.6589008363201911 ; Cluster Size:  1674\n",
      "Cluster  5 ; Mirai Ratio: 0.8424333084018948 ; Cluster Size:  16044\n",
      "Cluster  8 ; Mirai Ratio: 0.0013292569453675395 ; Cluster Size:  7523\n",
      "Cluster  16 ; Mirai Ratio: 0.014192139737991267 ; Cluster Size:  1832\n",
      "Cluster  18 ; Mirai Ratio: 0.048417621701188095 ; Cluster Size:  38044\n",
      "Cluster  19 ; Mirai Ratio: 0.013223140495867768 ; Cluster Size:  605\n",
      "Cluster  20 ; Mirai Ratio: 0.066006600660066 ; Cluster Size:  909\n",
      "Cluster  28 ; Mirai Ratio: 0.024229074889867842 ; Cluster Size:  454\n",
      "Cluster  31 ; Mirai Ratio: 0.18413696715583508 ; Cluster Size:  2862\n",
      "Cluster  33 ; Mirai Ratio: 0.0017825311942959 ; Cluster Size:  7293\n",
      "Cluster  39 ; Mirai Ratio: 0.009746588693957114 ; Cluster Size:  1539\n",
      "Cluster  41 ; Mirai Ratio: 0.001184834123222749 ; Cluster Size:  844\n"
     ]
    }
   ],
   "source": [
    "cluster_eval_df = pd.DataFrame( columns = ['cluster ID', 'size', 'cluster center', 'mirai_ratio', 'zmap_ratio', 'masscan_ratio'] )\n",
    "\n",
    "for i in range(0, 50):\n",
    "    cluster_i = predictions.where(col('prediction')==i)\n",
    "    cluster_i_size = cluster_i.count()\n",
    "    cluster_i_mirai_count = cluster_i.where(col('mirai')).count()\n",
    "    cluster_i_mirai_ratio = cluster_i_mirai_count/cluster_i_size\n",
    "    if cluster_i_mirai_count > 0:\n",
    "        print(\"Cluster \", i, \"; Mirai Ratio:\", cluster_i_mirai_ratio, \"; Cluster Size: \", cluster_i_size)\n",
    "    cluster_i_zmap_ratio = (cluster_i.where(col('zmap')).count())/cluster_i_size\n",
    "    cluster_i_masscan_ratio = (cluster_i.where(col('masscan')).count())/cluster_i_size\n",
    "    cluster_eval_df.loc[i]=[i, cluster_i_size, centers[i], cluster_i_mirai_ratio, cluster_i_zmap_ratio, cluster_i_masscan_ratio ]\n",
    "                               "
   ]
  },
  {
   "cell_type": "markdown",
   "metadata": {},
   "source": [
    "# Exercise 10 (5 points) \n",
    "Identify all of the clusters that have a large percentage of Mirai malware. For example, you can choose clusters with at least 80% of Mirai ratio. If you use a different threshold (other than 80%), describe the threshold you used and the rational of your choice."
   ]
  },
  {
   "cell_type": "markdown",
   "metadata": {},
   "source": [
    "## Answer to Exercise 10:\n",
    "- Cluster 5\n"
   ]
  },
  {
   "cell_type": "code",
   "execution_count": 55,
   "metadata": {},
   "outputs": [],
   "source": [
    "# You can filter predictions DataFrame (Spark) to get all scanners in a cluster. \n",
    "# For example, the code below selects scanners in cluster 5. However, you should\n",
    "# replace 5 with the ID of the cluster you want to investigate.\n",
    "cluster_selected = predictions.where(col('prediction')==3)"
   ]
  },
  {
   "cell_type": "code",
   "execution_count": 56,
   "metadata": {},
   "outputs": [],
   "source": [
    "# If you prefer to use Pandas dataframe, you can use the following to convert a cluster to a Pandas dataframe\n",
    "cluster_selected_df = cluster_selected.select(\"*\").toPandas()"
   ]
  },
  {
   "cell_type": "code",
   "execution_count": 57,
   "metadata": {},
   "outputs": [
    {
     "name": "stdout",
     "output_type": "stream",
     "text": [
      "root\n",
      " |-- _c0: integer (nullable = true)\n",
      " |-- id: integer (nullable = true)\n",
      " |-- numports: integer (nullable = true)\n",
      " |-- lifetime: double (nullable = true)\n",
      " |-- Bytes: integer (nullable = true)\n",
      " |-- Packets: integer (nullable = true)\n",
      " |-- average_packetsize: integer (nullable = true)\n",
      " |-- MinUniqueDests: integer (nullable = true)\n",
      " |-- MaxUniqueDests: integer (nullable = true)\n",
      " |-- MinUniqueDest24s: integer (nullable = true)\n",
      " |-- MaxUniqueDest24s: integer (nullable = true)\n",
      " |-- average_lifetime: double (nullable = true)\n",
      " |-- mirai: boolean (nullable = true)\n",
      " |-- zmap: boolean (nullable = true)\n",
      " |-- masscan: boolean (nullable = true)\n",
      " |-- country: string (nullable = true)\n",
      " |-- traffic_types_scanned_str: string (nullable = true)\n",
      " |-- ports_scanned_str: string (nullable = true)\n",
      " |-- host_tags_per_censys: string (nullable = true)\n",
      " |-- host_services_per_censys: string (nullable = true)\n",
      " |-- Ports_Array: array (nullable = true)\n",
      " |    |-- element: string (containsNull = true)\n",
      " |-- Port17132: boolean (nullable = true)\n",
      " |-- Port17140: boolean (nullable = true)\n",
      " |-- Port17128: boolean (nullable = true)\n",
      " |-- Port17138: boolean (nullable = true)\n",
      " |-- Port17130: boolean (nullable = true)\n",
      " |-- Port17136: boolean (nullable = true)\n",
      " |-- Port23: boolean (nullable = true)\n",
      " |-- Port445: boolean (nullable = true)\n",
      " |-- Port54594: boolean (nullable = true)\n",
      " |-- Port17142: boolean (nullable = true)\n",
      " |-- Port17134: boolean (nullable = true)\n",
      " |-- Port80: boolean (nullable = true)\n",
      " |-- Port8080: boolean (nullable = true)\n",
      " |-- Port0: boolean (nullable = true)\n",
      " |-- Port2323: boolean (nullable = true)\n",
      " |-- Port5555: boolean (nullable = true)\n",
      " |-- Port81: boolean (nullable = true)\n",
      " |-- Port1023: boolean (nullable = true)\n",
      " |-- Port52869: boolean (nullable = true)\n",
      " |-- Port8443: boolean (nullable = true)\n",
      " |-- Port49152: boolean (nullable = true)\n",
      " |-- Port7574: boolean (nullable = true)\n",
      " |-- Port37215: boolean (nullable = true)\n",
      " |-- Port34218: boolean (nullable = true)\n",
      " |-- Port34220: boolean (nullable = true)\n",
      " |-- Port33968: boolean (nullable = true)\n",
      " |-- Port34224: boolean (nullable = true)\n",
      " |-- Port34228: boolean (nullable = true)\n",
      " |-- Port33962: boolean (nullable = true)\n",
      " |-- Port33960: boolean (nullable = true)\n",
      " |-- Port33964: boolean (nullable = true)\n",
      " |-- Port34216: boolean (nullable = true)\n",
      " |-- Port34226: boolean (nullable = true)\n",
      " |-- Port33970: boolean (nullable = true)\n",
      " |-- Port33972: boolean (nullable = true)\n",
      " |-- Port50401: boolean (nullable = true)\n",
      " |-- Port34222: boolean (nullable = true)\n",
      " |-- Port34230: boolean (nullable = true)\n",
      " |-- Port33966: boolean (nullable = true)\n",
      " |-- TE_numports_0: boolean (nullable = true)\n",
      " |-- TE_numports_1: boolean (nullable = true)\n",
      " |-- TE_numports_2: boolean (nullable = true)\n",
      " |-- TE_numports_3: boolean (nullable = true)\n",
      " |-- TE_numports_4: boolean (nullable = true)\n",
      " |-- TE_numports_5: boolean (nullable = true)\n",
      " |-- TE_numports_6: boolean (nullable = true)\n",
      " |-- TE_numports_7: boolean (nullable = true)\n",
      " |-- TE_numports_8: boolean (nullable = true)\n",
      " |-- TE_numports_9: boolean (nullable = true)\n",
      " |-- TE_numports_10: boolean (nullable = true)\n",
      " |-- TE_numports_11: boolean (nullable = true)\n",
      " |-- TE_numports_12: boolean (nullable = true)\n",
      " |-- TE_numports_13: boolean (nullable = true)\n",
      " |-- TE_numports_14: boolean (nullable = true)\n",
      " |-- TE_numports_15: boolean (nullable = true)\n",
      " |-- TE_numports_16: boolean (nullable = true)\n",
      " |-- features: vector (nullable = true)\n",
      " |-- prediction: integer (nullable = false)\n",
      "\n"
     ]
    }
   ],
   "source": [
    "cluster_selected.printSchema()"
   ]
  },
  {
   "cell_type": "markdown",
   "metadata": {},
   "source": [
    "# Exercise 11 (10 points)\n",
    "Complete the following code to find out, for each of the clusters you identified in Exercise 10, \n",
    "- (1) (5 points) determine whether they scan a common port, and \n",
    "- (2) (5 points) what is the port number if most of them in a cluster scan a common port. \n",
    "You canuse the code below to find out what top port is scanned by the scanner in a cluster."
   ]
  },
  {
   "cell_type": "code",
   "execution_count": 58,
   "metadata": {},
   "outputs": [],
   "source": [
    "# You fill in the ??? based on the cluster you want to investigate.\n",
    "cluster_5= predictions.where(col('prediction')==5)"
   ]
  },
  {
   "cell_type": "code",
   "execution_count": 59,
   "metadata": {},
   "outputs": [
    {
     "name": "stdout",
     "output_type": "stream",
     "text": [
      "Scanners of Port  23  =  16044\n"
     ]
    }
   ],
   "source": [
    "for i in range(0, top_ports -1):\n",
    "    port_num = \"Port\" + Top_Ports_list[i]\n",
    "    port_i_count = cluster_5.where(col(port_num)).count()\n",
    "    if port_i_count > 0:\n",
    "        print(\"Scanners of Port \", Top_Ports_list[i], \" = \", port_i_count)"
   ]
  },
  {
   "cell_type": "markdown",
   "metadata": {},
   "source": [
    "# Answer to Exercise 11\n",
    "- (1) (5 points) 5 \n",
    "- (2) (5 points) 16044"
   ]
  },
  {
   "cell_type": "markdown",
   "metadata": {},
   "source": [
    "# Exercise 12 (20 points)\n",
    "Based on the results above and those of mini project deliverable #2, answer the following questions:\n",
    "- (a) Why the clustering result of mini project #3 is better than that of #2? (5 points)\n",
    "- (b) Based on your answer of (a), what is the general lesson you learned for solving clustering problems? (5 points)\n",
    "- (c) Did you find anything interesting and/or surprising using Mirai labels to evaluate the clustering result? (5 points)\n",
    "- (d) Based on your answer of (c), what is the general lesson you learned regarding evaluating clustering? (5 points)"
   ]
  },
  {
   "cell_type": "markdown",
   "metadata": {},
   "source": [
    "# Answer to Exercise 12: \n",
    "- (a) We add Mirai labels and Thermometer Encoding of Numerical Variables, encoding the numerical variable numports \n",
    "- (b) Not only we can use one hot encoding to process our data, we can also use Mirai labels and Thermometer Encoding to process the numberical variables. \n",
    "- (c) Yes, since the Mirai Ratio's are so different among different clusters\n",
    "- (d) We can enhanced Clustering Validation Using External Labels "
   ]
  },
  {
   "cell_type": "code",
   "execution_count": null,
   "metadata": {},
   "outputs": [],
   "source": []
  },
  {
   "cell_type": "code",
   "execution_count": null,
   "metadata": {},
   "outputs": [],
   "source": []
  },
  {
   "cell_type": "code",
   "execution_count": null,
   "metadata": {},
   "outputs": [],
   "source": []
  },
  {
   "cell_type": "code",
   "execution_count": null,
   "metadata": {},
   "outputs": [],
   "source": []
  },
  {
   "cell_type": "code",
   "execution_count": null,
   "metadata": {},
   "outputs": [],
   "source": []
  },
  {
   "cell_type": "code",
   "execution_count": null,
   "metadata": {},
   "outputs": [],
   "source": []
  },
  {
   "cell_type": "code",
   "execution_count": null,
   "metadata": {},
   "outputs": [],
   "source": []
  },
  {
   "cell_type": "code",
   "execution_count": null,
   "metadata": {},
   "outputs": [],
   "source": []
  },
  {
   "cell_type": "code",
   "execution_count": null,
   "metadata": {},
   "outputs": [],
   "source": []
  },
  {
   "cell_type": "code",
   "execution_count": null,
   "metadata": {},
   "outputs": [],
   "source": []
  },
  {
   "cell_type": "code",
   "execution_count": null,
   "metadata": {},
   "outputs": [],
   "source": []
  },
  {
   "cell_type": "code",
   "execution_count": null,
   "metadata": {},
   "outputs": [],
   "source": []
  },
  {
   "cell_type": "code",
   "execution_count": null,
   "metadata": {},
   "outputs": [],
   "source": []
  },
  {
   "cell_type": "code",
   "execution_count": null,
   "metadata": {},
   "outputs": [],
   "source": []
  },
  {
   "cell_type": "code",
   "execution_count": null,
   "metadata": {},
   "outputs": [],
   "source": []
  },
  {
   "cell_type": "code",
   "execution_count": null,
   "metadata": {},
   "outputs": [],
   "source": []
  },
  {
   "cell_type": "code",
   "execution_count": null,
   "metadata": {},
   "outputs": [],
   "source": []
  },
  {
   "cell_type": "code",
   "execution_count": null,
   "metadata": {},
   "outputs": [],
   "source": []
  },
  {
   "cell_type": "code",
   "execution_count": null,
   "metadata": {},
   "outputs": [],
   "source": []
  },
  {
   "cell_type": "code",
   "execution_count": null,
   "metadata": {},
   "outputs": [],
   "source": []
  }
 ],
 "metadata": {
  "kernelspec": {
   "display_name": "Python 3",
   "language": "python",
   "name": "python3"
  },
  "language_info": {
   "codemirror_mode": {
    "name": "ipython",
    "version": 3
   },
   "file_extension": ".py",
   "mimetype": "text/x-python",
   "name": "python",
   "nbconvert_exporter": "python",
   "pygments_lexer": "ipython3",
   "version": "3.8.3"
  }
 },
 "nbformat": 4,
 "nbformat_minor": 4
}
